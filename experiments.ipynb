{
 "cells": [
  {
   "cell_type": "code",
   "execution_count": 1,
   "metadata": {},
   "outputs": [],
   "source": [
    "%reload_ext autoreload\n",
    "%autoreload 2\n",
    "%matplotlib inline"
   ]
  },
  {
   "cell_type": "code",
   "execution_count": 2,
   "metadata": {},
   "outputs": [],
   "source": [
    "import numpy as np\n",
    "import matplotlib.pyplot as plt"
   ]
  },
  {
   "cell_type": "code",
   "execution_count": 3,
   "metadata": {},
   "outputs": [],
   "source": [
    "import os\n",
    "import json\n",
    "import argparse\n",
    "\n",
    "import torch\n",
    "import numpy as np\n",
    "from tensorboardX import SummaryWriter\n",
    "\n",
    "from maml.datasets.simple_functions import (\n",
    "    SinusoidMetaDataset,\n",
    "    LinearMetaDataset,\n",
    "    MixedFunctionsMetaDataset,\n",
    "    ManyFunctionsMetaDataset,\n",
    "    FiveFunctionsMetaDataset,\n",
    "    MultiSinusoidsMetaDataset,\n",
    ")\n",
    "from maml.models.fully_connected import FullyConnectedModel, MultiFullyConnectedModel\n",
    "from maml.models.gated_net import GatedNet\n",
    "from maml.models.lstm_embedding_model import LSTMEmbeddingModel\n",
    "from maml.metalearner import MetaLearner\n",
    "from maml.trainer import Trainer\n",
    "from maml.utils import optimizer_to_device, get_git_revision_hash"
   ]
  },
  {
   "cell_type": "code",
   "execution_count": 4,
   "metadata": {},
   "outputs": [],
   "source": [
    "def str2bool(arg):\n",
    "    return arg.lower() == 'true'\n",
    "\n",
    "parser = argparse.ArgumentParser(\n",
    "    description='Multimodal Model-Agnostic Meta-Learning (MAML)')\n",
    "\n",
    "# Model\n",
    "parser.add_argument('--hidden-sizes', type=int,\n",
    "                    default=[256, 128, 64, 64], nargs='+',\n",
    "                    help='number of hidden units per layer')\n",
    "parser.add_argument('--model-type', type=str, default='fc',\n",
    "                    help='type of the model')\n",
    "parser.add_argument('--condition-type', type=str, default='affine',\n",
    "                    help='type of the conditional layers')\n",
    "parser.add_argument('--use-max-pool', action='store_true',\n",
    "                    help='choose whether to use max pooling with convolutional model')\n",
    "parser.add_argument('--num-channels', type=int, default=64,\n",
    "                    help='number of channels in convolutional layers')\n",
    "parser.add_argument('--disable-norm', action='store_true',\n",
    "                    help='disable batchnorm after linear layers in a fully connected model')\n",
    "parser.add_argument('--bias-transformation-size', type=int, default=0,\n",
    "                    help='size of bias transformation vector that is concatenated with '\n",
    "                    'input')\n",
    "parser.add_argument('--condition-order', type=str, default='low2high',\n",
    "                    help='order of the conditional layers to be used')\n",
    "\n",
    "# Embedding\n",
    "parser.add_argument('--embedding-type', type=str, default='',\n",
    "                    help='type of the embedding')\n",
    "parser.add_argument('--embedding-hidden-size', type=int, default=40,\n",
    "                    help='number of hidden units per layer in recurrent embedding model')\n",
    "parser.add_argument('--embedding-num-layers', type=int, default=2,\n",
    "                    help='number of layers in recurrent embedding model')\n",
    "parser.add_argument('--embedding-dims', type=int, nargs='+', default=0,\n",
    "                    help='dimensions of the embeddings')\n",
    "\n",
    "# Randomly sampled embedding vectors\n",
    "parser.add_argument('--num-sample-embedding', type=int, default=0,\n",
    "                    help='number of randomly sampled embedding vectors')\n",
    "parser.add_argument(\n",
    "    '--sample-embedding-file', type=str, default='embeddings',\n",
    "    help='the file name of randomly sampled embedding vectors')\n",
    "parser.add_argument(\n",
    "    '--sample-embedding-file-type', type=str, default='hdf5')\n",
    "\n",
    "# Inner loop\n",
    "parser.add_argument('--first-order', action='store_true',\n",
    "                    help='use the first-order approximation of MAML')\n",
    "parser.add_argument('--fast-lr', type=float, default=0.4,\n",
    "                    help='learning rate for the 1-step gradient update of MAML')\n",
    "parser.add_argument('--inner-loop-grad-clip', type=float, default=0.0,\n",
    "                    help='enable gradient clipping in the inner loop')\n",
    "parser.add_argument('--num-updates', type=int, default=1,\n",
    "                    help='how many update steps in the inner loop')\n",
    "\n",
    "# Optimization\n",
    "parser.add_argument('--num-batches', type=int, default=1920000,\n",
    "                    help='number of batches')\n",
    "parser.add_argument('--meta-batch-size', type=int, default=32,\n",
    "                    help='number of tasks per batch')\n",
    "parser.add_argument('--slow-lr', type=float, default=0.001,\n",
    "                    help='learning rate for the global update of MAML')\n",
    "\n",
    "# Miscellaneous\n",
    "parser.add_argument('--output-folder', type=str, default='maml',\n",
    "                    help='name of the output folder')\n",
    "parser.add_argument('--device', type=str, default='cpu',\n",
    "                    help='set the device (cpu or cuda)')\n",
    "parser.add_argument('--num-workers', type=int, default=4,\n",
    "                    help='how many DataLoader workers to use')\n",
    "parser.add_argument('--log-interval', type=int, default=100,\n",
    "                    help='number of batches between tensorboard writes')\n",
    "parser.add_argument('--save-interval', type=int, default=1000,\n",
    "                    help='number of batches between model saves')\n",
    "parser.add_argument('--eval', action='store_true', default=False,\n",
    "                    help='evaluate model')\n",
    "parser.add_argument('--checkpoint', type=str, default='',\n",
    "                    help='path to saved parameters.')\n",
    "\n",
    "# Dataset\n",
    "parser.add_argument('--dataset', type=str, default='omniglot',\n",
    "                    help='which dataset to use')\n",
    "parser.add_argument('--data-root', type=str, default='data',\n",
    "                    help='path to store datasets')\n",
    "parser.add_argument('--num-samples-per-class', type=int, default=1,\n",
    "                    help='how many samples per class for training')\n",
    "parser.add_argument('--num-val-samples', type=int, default=1,\n",
    "                    help='how many samples per class for validation')\n",
    "parser.add_argument('--input-range', type=float, default=[-5.0, 5.0],\n",
    "                    nargs='+', help='input range of simple functions')\n",
    "parser.add_argument('--phase-range', type=float, default=[0, np.pi],\n",
    "                    nargs='+', help='phase range of sinusoids')\n",
    "parser.add_argument('--amp-range', type=float, default=[0.1, 5.0],\n",
    "                    nargs='+', help='amp range of sinusoids')\n",
    "parser.add_argument('--slope-range', type=float, default=[-3.0, 3.0],\n",
    "                    nargs='+', help='slope range of linear functions')\n",
    "parser.add_argument('--intersect-range', type=float, default=[-3.0, 3.0],\n",
    "                    nargs='+', help='intersect range of linear functions')\n",
    "parser.add_argument('--noise-std', type=float, default=0.0,\n",
    "                    help='add gaussian noise to mixed functions')\n",
    "parser.add_argument('--oracle', action='store_true',\n",
    "                    help='concatenate phase and amp to sinusoid inputs')\n",
    "parser.add_argument('--task-oracle', action='store_true',\n",
    "                    help='uses task id for prediction in some models')\n",
    "\n",
    "parser.add_argument('--embedding-grad-clip', type=float, default=2.0,\n",
    "                    help='')\n",
    "parser.add_argument('--model-grad-clip', type=float, default=2.0,\n",
    "                    help='')\n",
    "\n",
    "args = parser.parse_args([])\n",
    "\n",
    "if args.embedding_dims == 0:\n",
    "    args.embedding_dims = args.hidden_sizes\n",
    "    \n",
    "# Create logs and saves folder if they don't exist\n",
    "if not os.path.exists('./train_dir'):\n",
    "    os.makedirs('./train_dir')\n",
    "\n",
    "# Make sure num sample embedding < num sample tasks\n",
    "args.num_sample_embedding = min(\n",
    "    args.num_sample_embedding, args.num_batches)\n",
    "\n",
    "# Device\n",
    "args.device = torch.device(\n",
    "    args.device if torch.cuda.is_available() else 'cpu')\n",
    "    \n",
    "is_training = not args.eval\n",
    "run_name = 'train' if is_training else 'eval'\n",
    "\n",
    "if is_training:\n",
    "    writer = SummaryWriter('./train_dir/{0}/{1}'.format(\n",
    "        args.output_folder, run_name))\n",
    "else:\n",
    "    writer = None\n",
    "\n",
    "save_folder = './train_dir/{0}'.format(args.output_folder)\n",
    "if not os.path.exists(save_folder):\n",
    "    os.makedirs(save_folder)\n",
    "\n",
    "config_name = '{0}_config.json'.format(run_name)\n",
    "with open(os.path.join(save_folder, config_name), 'w') as f:\n",
    "    config = {k: v for (k, v) in vars(args).items() if k != 'device'}\n",
    "    config.update(device=args.device.type)\n",
    "    config.update({'git_hash': get_git_revision_hash()})\n",
    "    json.dump(config, f, indent=2)"
   ]
  },
  {
   "cell_type": "code",
   "execution_count": 5,
   "metadata": {},
   "outputs": [
    {
     "data": {
      "text/plain": [
       "Namespace(amp_range=[0.1, 5.0], bias_transformation_size=0, checkpoint='', condition_order='low2high', condition_type='affine', data_root='data', dataset='omniglot', device=device(type='cpu'), disable_norm=False, embedding_dims=[256, 128, 64, 64], embedding_grad_clip=2.0, embedding_hidden_size=40, embedding_num_layers=2, embedding_type='', eval=False, fast_lr=0.4, first_order=False, hidden_sizes=[256, 128, 64, 64], inner_loop_grad_clip=0.0, input_range=[-5.0, 5.0], intersect_range=[-3.0, 3.0], log_interval=100, meta_batch_size=32, model_grad_clip=2.0, model_type='fc', noise_std=0.0, num_batches=1920000, num_channels=64, num_sample_embedding=0, num_samples_per_class=1, num_updates=1, num_val_samples=1, num_workers=4, oracle=False, output_folder='maml', phase_range=[0, 3.141592653589793], sample_embedding_file='embeddings', sample_embedding_file_type='hdf5', save_interval=1000, slope_range=[-3.0, 3.0], slow_lr=0.001, task_oracle=False, use_max_pool=False)"
      ]
     },
     "execution_count": 5,
     "metadata": {},
     "output_type": "execute_result"
    }
   ],
   "source": [
    "args"
   ]
  },
  {
   "cell_type": "code",
   "execution_count": 6,
   "metadata": {},
   "outputs": [
    {
     "data": {
      "text/plain": [
       "'omniglot'"
      ]
     },
     "execution_count": 6,
     "metadata": {},
     "output_type": "execute_result"
    }
   ],
   "source": [
    "args.dataset"
   ]
  },
  {
   "cell_type": "code",
   "execution_count": 7,
   "metadata": {},
   "outputs": [],
   "source": [
    "_num_tasks = 1"
   ]
  },
  {
   "cell_type": "code",
   "execution_count": 8,
   "metadata": {},
   "outputs": [],
   "source": [
    "args.dataset = 'linear'"
   ]
  },
  {
   "cell_type": "code",
   "execution_count": 9,
   "metadata": {},
   "outputs": [],
   "source": [
    "dataset = LinearMetaDataset(\n",
    "    num_total_batches=args.num_batches,\n",
    "    num_samples_per_function=args.num_samples_per_class,\n",
    "    num_val_samples=args.num_val_samples,\n",
    "    meta_batch_size=args.meta_batch_size,\n",
    "    slope_range=args.slope_range,\n",
    "    intersect_range=args.intersect_range,\n",
    "    input_range=[-1.0, 1.0], #args.input_range,\n",
    "    oracle=args.oracle,\n",
    "    train=is_training,\n",
    "    device=args.device)\n",
    "loss_func = torch.nn.MSELoss()\n",
    "collect_accuracies = False"
   ]
  },
  {
   "cell_type": "code",
   "execution_count": 10,
   "metadata": {},
   "outputs": [
    {
     "data": {
      "text/plain": [
       "{'_num_total_batches': 1920000,\n",
       " '_num_samples_per_function': 1,\n",
       " '_num_val_samples': 1,\n",
       " '_num_total_samples': 1,\n",
       " '_meta_batch_size': 32,\n",
       " '_oracle': False,\n",
       " '_train': True,\n",
       " '_device': device(type='cpu'),\n",
       " '_dtype': torch.float32,\n",
       " '_slope_range': [-3.0, 3.0],\n",
       " '_intersect_range': [-3.0, 3.0],\n",
       " '_input_range': [-1.0, 1.0],\n",
       " 'input_size': 1,\n",
       " 'output_size': 1}"
      ]
     },
     "execution_count": 10,
     "metadata": {},
     "output_type": "execute_result"
    }
   ],
   "source": [
    "dataset.__dict__"
   ]
  },
  {
   "cell_type": "code",
   "execution_count": 11,
   "metadata": {},
   "outputs": [],
   "source": [
    "def get_linear_points(tasks):\n",
    "    xs, ys, slopes, intersects = [], [], [], []\n",
    "    for task in tasks:\n",
    "        xs.append(task.x.numpy())\n",
    "        ys.append(task.y.numpy())\n",
    "        slopes.append(task.task_info['slope'])\n",
    "        intersects.append(task.task_info['intersect'])\n",
    "        \n",
    "    return np.array(xs), np.array(ys), np.array(slopes), np.array(intersects)"
   ]
  },
  {
   "cell_type": "code",
   "execution_count": 12,
   "metadata": {
    "scrolled": false
   },
   "outputs": [
    {
     "name": "stdout",
     "output_type": "stream",
     "text": [
      "[Task(x=tensor([]), y=tensor([]), task_info={'task_id': 0, 'slope': 1.1976959957980036, 'intersect': -2.491124634615182}), Task(x=tensor([]), y=tensor([]), task_info={'task_id': 0, 'slope': 1.91290745332988, 'intersect': -2.5612186399414214}), Task(x=tensor([]), y=tensor([]), task_info={'task_id': 0, 'slope': 0.788660328505224, 'intersect': -2.0273379804674496}), Task(x=tensor([]), y=tensor([]), task_info={'task_id': 0, 'slope': 2.895365033973116, 'intersect': 1.9799833253366783}), Task(x=tensor([]), y=tensor([]), task_info={'task_id': 0, 'slope': 0.9467803170368709, 'intersect': 1.7272816117797207}), Task(x=tensor([]), y=tensor([]), task_info={'task_id': 0, 'slope': -2.6781086374421696, 'intersect': 0.927880956156069}), Task(x=tensor([]), y=tensor([]), task_info={'task_id': 0, 'slope': 1.3405815960025684, 'intersect': 1.5403287851803142}), Task(x=tensor([]), y=tensor([]), task_info={'task_id': 0, 'slope': 2.861203345297201, 'intersect': -2.250377961611182}), Task(x=tensor([]), y=tensor([]), task_info={'task_id': 0, 'slope': -2.7809227221362427, 'intersect': 1.6730907861772852}), Task(x=tensor([]), y=tensor([]), task_info={'task_id': 0, 'slope': -1.1349317426271996, 'intersect': -1.3633537017745483}), Task(x=tensor([]), y=tensor([]), task_info={'task_id': 0, 'slope': -2.5740341406337652, 'intersect': -2.003925471505581}), Task(x=tensor([]), y=tensor([]), task_info={'task_id': 0, 'slope': 0.14603431299639436, 'intersect': 0.21671031481792458}), Task(x=tensor([]), y=tensor([]), task_info={'task_id': 0, 'slope': -0.5933702676284627, 'intersect': -2.4093224545704786}), Task(x=tensor([]), y=tensor([]), task_info={'task_id': 0, 'slope': 1.4491524327490755, 'intersect': -1.0565732418572726}), Task(x=tensor([]), y=tensor([]), task_info={'task_id': 0, 'slope': 2.979651825398113, 'intersect': -1.237909116316901}), Task(x=tensor([]), y=tensor([]), task_info={'task_id': 0, 'slope': -2.6196696426852766, 'intersect': 2.955619038904282}), Task(x=tensor([]), y=tensor([]), task_info={'task_id': 0, 'slope': 0.6032685369025543, 'intersect': 2.4134551542609177}), Task(x=tensor([]), y=tensor([]), task_info={'task_id': 0, 'slope': -2.5219681865760952, 'intersect': -1.5527766648875378}), Task(x=tensor([]), y=tensor([]), task_info={'task_id': 0, 'slope': 0.7084238970530876, 'intersect': 0.32943413232097196}), Task(x=tensor([]), y=tensor([]), task_info={'task_id': 0, 'slope': 0.4304649404752432, 'intersect': -2.1313387718196233}), Task(x=tensor([]), y=tensor([]), task_info={'task_id': 0, 'slope': -0.07773353272716976, 'intersect': -0.6908070532821822}), Task(x=tensor([]), y=tensor([]), task_info={'task_id': 0, 'slope': -0.37008670121226306, 'intersect': 1.2824326203645997}), Task(x=tensor([]), y=tensor([]), task_info={'task_id': 0, 'slope': -0.9757393079162062, 'intersect': 2.2321786652101725}), Task(x=tensor([]), y=tensor([]), task_info={'task_id': 0, 'slope': -0.052602880301345856, 'intersect': -0.620193882897182}), Task(x=tensor([]), y=tensor([]), task_info={'task_id': 0, 'slope': -0.8461191987753303, 'intersect': 1.617430595940955}), Task(x=tensor([]), y=tensor([]), task_info={'task_id': 0, 'slope': 0.615776558337358, 'intersect': -1.2717852411300323}), Task(x=tensor([]), y=tensor([]), task_info={'task_id': 0, 'slope': 0.18568797222562639, 'intersect': -2.4802812877331646}), Task(x=tensor([]), y=tensor([]), task_info={'task_id': 0, 'slope': 2.155526255222676, 'intersect': -1.7596421791087205}), Task(x=tensor([]), y=tensor([]), task_info={'task_id': 0, 'slope': -1.253931077117214, 'intersect': -2.048845498751553}), Task(x=tensor([]), y=tensor([]), task_info={'task_id': 0, 'slope': 1.0859945815239236, 'intersect': 1.8911493394819079}), Task(x=tensor([]), y=tensor([]), task_info={'task_id': 0, 'slope': -2.784903877097048, 'intersect': -2.077694288832199}), Task(x=tensor([]), y=tensor([]), task_info={'task_id': 0, 'slope': -1.820247448562246, 'intersect': 0.25755023367079577})]\n",
      "[Task(x=tensor([]), y=tensor([]), task_info={'task_id': 0, 'slope': -0.6932841291497507, 'intersect': -2.696019179691686}), Task(x=tensor([]), y=tensor([]), task_info={'task_id': 0, 'slope': 1.2092410287534783, 'intersect': -1.70273266683166}), Task(x=tensor([]), y=tensor([]), task_info={'task_id': 0, 'slope': -2.6187817770932735, 'intersect': 1.8041091670483542}), Task(x=tensor([]), y=tensor([]), task_info={'task_id': 0, 'slope': -1.7638155647558964, 'intersect': -1.997871688583965}), Task(x=tensor([]), y=tensor([]), task_info={'task_id': 0, 'slope': -0.9305039864263884, 'intersect': -1.6939414021320527}), Task(x=tensor([]), y=tensor([]), task_info={'task_id': 0, 'slope': 2.43078788537671, 'intersect': 1.5564654379933796}), Task(x=tensor([]), y=tensor([]), task_info={'task_id': 0, 'slope': -0.07797595829282944, 'intersect': -2.564853175298278}), Task(x=tensor([]), y=tensor([]), task_info={'task_id': 0, 'slope': 2.863879422673131, 'intersect': -1.2629892824814162}), Task(x=tensor([]), y=tensor([]), task_info={'task_id': 0, 'slope': -2.4293306114734623, 'intersect': -1.6341682597623977}), Task(x=tensor([]), y=tensor([]), task_info={'task_id': 0, 'slope': 0.27839356589148334, 'intersect': 0.24594609739197804}), Task(x=tensor([]), y=tensor([]), task_info={'task_id': 0, 'slope': -1.4450223986521544, 'intersect': -1.4768055607287514}), Task(x=tensor([]), y=tensor([]), task_info={'task_id': 0, 'slope': 2.886169887572457, 'intersect': 0.006854586384578365}), Task(x=tensor([]), y=tensor([]), task_info={'task_id': 0, 'slope': -0.5527908551199268, 'intersect': 0.3811907826001186}), Task(x=tensor([]), y=tensor([]), task_info={'task_id': 0, 'slope': -0.6407451753088393, 'intersect': -0.692267019396172}), Task(x=tensor([]), y=tensor([]), task_info={'task_id': 0, 'slope': -0.39064570006171184, 'intersect': -2.2541010229557585}), Task(x=tensor([]), y=tensor([]), task_info={'task_id': 0, 'slope': 0.8151423121557597, 'intersect': 0.6362899888717903}), Task(x=tensor([]), y=tensor([]), task_info={'task_id': 0, 'slope': 0.7483933777839296, 'intersect': -1.4348093455778148}), Task(x=tensor([]), y=tensor([]), task_info={'task_id': 0, 'slope': 2.869306395993954, 'intersect': -1.1581835536089593}), Task(x=tensor([]), y=tensor([]), task_info={'task_id': 0, 'slope': -2.8404107823157956, 'intersect': 2.261703108554811}), Task(x=tensor([]), y=tensor([]), task_info={'task_id': 0, 'slope': -2.2341924377010867, 'intersect': -2.4776572685198825}), Task(x=tensor([]), y=tensor([]), task_info={'task_id': 0, 'slope': -0.8790607520906439, 'intersect': -1.0154983733051333}), Task(x=tensor([]), y=tensor([]), task_info={'task_id': 0, 'slope': -1.7505606697969613, 'intersect': -2.9145173314495083}), Task(x=tensor([]), y=tensor([]), task_info={'task_id': 0, 'slope': 2.5654513044140828, 'intersect': -2.8668994042484632}), Task(x=tensor([]), y=tensor([]), task_info={'task_id': 0, 'slope': 0.8529400079360068, 'intersect': -0.9057182473919316}), Task(x=tensor([]), y=tensor([]), task_info={'task_id': 0, 'slope': -1.8841123024265178, 'intersect': -1.8249061241930935}), Task(x=tensor([]), y=tensor([]), task_info={'task_id': 0, 'slope': 0.8034486240267622, 'intersect': 1.39811977486106}), Task(x=tensor([]), y=tensor([]), task_info={'task_id': 0, 'slope': 1.2548445731171238, 'intersect': 0.4807187531003727}), Task(x=tensor([]), y=tensor([]), task_info={'task_id': 0, 'slope': -0.4184844176386058, 'intersect': 1.1725260200079317}), Task(x=tensor([]), y=tensor([]), task_info={'task_id': 0, 'slope': 0.2307078841844512, 'intersect': -0.7476479548697781}), Task(x=tensor([]), y=tensor([]), task_info={'task_id': 0, 'slope': 2.8390296897048746, 'intersect': -0.1535759641737271}), Task(x=tensor([]), y=tensor([]), task_info={'task_id': 0, 'slope': 0.8166771712010967, 'intersect': -2.660532632697586}), Task(x=tensor([]), y=tensor([]), task_info={'task_id': 0, 'slope': 0.2905375375948793, 'intersect': 2.876926675548866})]\n",
      "[Task(x=tensor([]), y=tensor([]), task_info={'task_id': 0, 'slope': -1.8938529334528669, 'intersect': -1.9119551782648658}), Task(x=tensor([]), y=tensor([]), task_info={'task_id': 0, 'slope': 2.1902129968244273, 'intersect': -0.4426776168958724}), Task(x=tensor([]), y=tensor([]), task_info={'task_id': 0, 'slope': -0.5434696590303902, 'intersect': -1.0487231077945949}), Task(x=tensor([]), y=tensor([]), task_info={'task_id': 0, 'slope': 0.03829110150270809, 'intersect': 2.4648572878045965}), Task(x=tensor([]), y=tensor([]), task_info={'task_id': 0, 'slope': 2.0928868813376944, 'intersect': -0.5625179694128124}), Task(x=tensor([]), y=tensor([]), task_info={'task_id': 0, 'slope': 2.2961769923482267, 'intersect': 2.10184208834451}), Task(x=tensor([]), y=tensor([]), task_info={'task_id': 0, 'slope': -2.9431117449184034, 'intersect': 1.836117393051449}), Task(x=tensor([]), y=tensor([]), task_info={'task_id': 0, 'slope': 1.3964708311639695, 'intersect': -2.039129689871827}), Task(x=tensor([]), y=tensor([]), task_info={'task_id': 0, 'slope': -1.3891037265580357, 'intersect': -0.2067754379172122}), Task(x=tensor([]), y=tensor([]), task_info={'task_id': 0, 'slope': -0.3101728770129242, 'intersect': -0.5986051343262622}), Task(x=tensor([]), y=tensor([]), task_info={'task_id': 0, 'slope': -1.3675127957596052, 'intersect': -0.2125891405194169}), Task(x=tensor([]), y=tensor([]), task_info={'task_id': 0, 'slope': 2.9806519240615383, 'intersect': -1.4783741760083093}), Task(x=tensor([]), y=tensor([]), task_info={'task_id': 0, 'slope': 2.869060800459838, 'intersect': 2.5396794453893596}), Task(x=tensor([]), y=tensor([]), task_info={'task_id': 0, 'slope': 2.359723959541597, 'intersect': -1.9018242023979948}), Task(x=tensor([]), y=tensor([]), task_info={'task_id': 0, 'slope': -1.498242388449845, 'intersect': 1.3430244677759768}), Task(x=tensor([]), y=tensor([]), task_info={'task_id': 0, 'slope': -0.5703076960864233, 'intersect': -0.3285740379682256}), Task(x=tensor([]), y=tensor([]), task_info={'task_id': 0, 'slope': -2.488121297564466, 'intersect': -0.5305772299279483}), Task(x=tensor([]), y=tensor([]), task_info={'task_id': 0, 'slope': 2.588127027416011, 'intersect': 1.030700068286163}), Task(x=tensor([]), y=tensor([]), task_info={'task_id': 0, 'slope': -2.127229050527516, 'intersect': 0.4840789548655975}), Task(x=tensor([]), y=tensor([]), task_info={'task_id': 0, 'slope': 1.8299602388522622, 'intersect': -0.0467930672625112}), Task(x=tensor([]), y=tensor([]), task_info={'task_id': 0, 'slope': -2.0035512102295865, 'intersect': 2.4737533846579414}), Task(x=tensor([]), y=tensor([]), task_info={'task_id': 0, 'slope': 0.09946108385562402, 'intersect': -0.5590256162535248}), Task(x=tensor([]), y=tensor([]), task_info={'task_id': 0, 'slope': 2.4284975362081607, 'intersect': -2.998842794953825}), Task(x=tensor([]), y=tensor([]), task_info={'task_id': 0, 'slope': -1.4890388153241847, 'intersect': 1.410705623008452}), Task(x=tensor([]), y=tensor([]), task_info={'task_id': 0, 'slope': 2.418238694752384, 'intersect': -0.785386943025455}), Task(x=tensor([]), y=tensor([]), task_info={'task_id': 0, 'slope': 0.3503475217417922, 'intersect': -0.7371522612133772}), Task(x=tensor([]), y=tensor([]), task_info={'task_id': 0, 'slope': 2.293723394195201, 'intersect': 1.5310260278611736}), Task(x=tensor([]), y=tensor([]), task_info={'task_id': 0, 'slope': 2.033206507051644, 'intersect': -1.4503034718896912}), Task(x=tensor([]), y=tensor([]), task_info={'task_id': 0, 'slope': -2.273239522132488, 'intersect': -1.2406644166821896}), Task(x=tensor([]), y=tensor([]), task_info={'task_id': 0, 'slope': 1.6014912166543356, 'intersect': -2.827086480715427}), Task(x=tensor([]), y=tensor([]), task_info={'task_id': 0, 'slope': 1.9691532580628799, 'intersect': -0.9501271073087016}), Task(x=tensor([]), y=tensor([]), task_info={'task_id': 0, 'slope': -0.5127734025244295, 'intersect': 2.5835450241076856})]\n",
      "[Task(x=tensor([]), y=tensor([]), task_info={'task_id': 0, 'slope': 0.15309298230362112, 'intersect': -0.421045744301737}), Task(x=tensor([]), y=tensor([]), task_info={'task_id': 0, 'slope': 2.563876443444883, 'intersect': -1.1847866469681305}), Task(x=tensor([]), y=tensor([]), task_info={'task_id': 0, 'slope': -2.9693666242744907, 'intersect': -0.20498916014384205}), Task(x=tensor([]), y=tensor([]), task_info={'task_id': 0, 'slope': -0.6976565410455491, 'intersect': -2.991570075223126}), Task(x=tensor([]), y=tensor([]), task_info={'task_id': 0, 'slope': 2.8287398575179097, 'intersect': -0.6130762874576847}), Task(x=tensor([]), y=tensor([]), task_info={'task_id': 0, 'slope': 1.9590773723543684, 'intersect': -2.75018272456943}), Task(x=tensor([]), y=tensor([]), task_info={'task_id': 0, 'slope': 0.9288858804494682, 'intersect': -2.2002172678739838}), Task(x=tensor([]), y=tensor([]), task_info={'task_id': 0, 'slope': 1.6400293232743604, 'intersect': 0.3107459908687624}), Task(x=tensor([]), y=tensor([]), task_info={'task_id': 0, 'slope': -1.4827690421307558, 'intersect': -2.870524041875688}), Task(x=tensor([]), y=tensor([]), task_info={'task_id': 0, 'slope': -2.464215064044887, 'intersect': 2.158890795259957}), Task(x=tensor([]), y=tensor([]), task_info={'task_id': 0, 'slope': -1.3391854196364272, 'intersect': 2.6837364555848904}), Task(x=tensor([]), y=tensor([]), task_info={'task_id': 0, 'slope': -1.9654886285894915, 'intersect': -0.29982587555453755}), Task(x=tensor([]), y=tensor([]), task_info={'task_id': 0, 'slope': -0.8560167911275554, 'intersect': 2.6356300615946084}), Task(x=tensor([]), y=tensor([]), task_info={'task_id': 0, 'slope': 2.7757203492839766, 'intersect': -0.8682006425459208}), Task(x=tensor([]), y=tensor([]), task_info={'task_id': 0, 'slope': 1.2416381451705902, 'intersect': -0.27628583053212985}), Task(x=tensor([]), y=tensor([]), task_info={'task_id': 0, 'slope': 1.741708011931375, 'intersect': -0.5072377918069062}), Task(x=tensor([]), y=tensor([]), task_info={'task_id': 0, 'slope': 2.3064255211798947, 'intersect': 2.209176911190232}), Task(x=tensor([]), y=tensor([]), task_info={'task_id': 0, 'slope': -1.7964751815011173, 'intersect': 0.0563181122117955}), Task(x=tensor([]), y=tensor([]), task_info={'task_id': 0, 'slope': -0.2876439754706821, 'intersect': 2.6754724550854387}), Task(x=tensor([]), y=tensor([]), task_info={'task_id': 0, 'slope': 1.7269390721330842, 'intersect': 0.8472378255278388}), Task(x=tensor([]), y=tensor([]), task_info={'task_id': 0, 'slope': -0.7295495510977932, 'intersect': 1.6516311346436137}), Task(x=tensor([]), y=tensor([]), task_info={'task_id': 0, 'slope': -2.963459656570432, 'intersect': -1.866692003313286}), Task(x=tensor([]), y=tensor([]), task_info={'task_id': 0, 'slope': 0.6191495638235303, 'intersect': -1.655731263563305}), Task(x=tensor([]), y=tensor([]), task_info={'task_id': 0, 'slope': -2.293713775191642, 'intersect': -0.9196814679163747}), Task(x=tensor([]), y=tensor([]), task_info={'task_id': 0, 'slope': 1.3591469807362397, 'intersect': -2.2755923547074475}), Task(x=tensor([]), y=tensor([]), task_info={'task_id': 0, 'slope': 0.1129492740251905, 'intersect': -0.9007707054847902}), Task(x=tensor([]), y=tensor([]), task_info={'task_id': 0, 'slope': 1.9492303047275863, 'intersect': -1.596271004172391}), Task(x=tensor([]), y=tensor([]), task_info={'task_id': 0, 'slope': -0.24938184393133245, 'intersect': 0.9513166956282735}), Task(x=tensor([]), y=tensor([]), task_info={'task_id': 0, 'slope': -2.0700763069145474, 'intersect': -0.7136574042444952}), Task(x=tensor([]), y=tensor([]), task_info={'task_id': 0, 'slope': 2.320495139441528, 'intersect': -0.503111065040232}), Task(x=tensor([]), y=tensor([]), task_info={'task_id': 0, 'slope': -2.516631081298055, 'intersect': 2.6509879671406047}), Task(x=tensor([]), y=tensor([]), task_info={'task_id': 0, 'slope': 2.3910184110916575, 'intersect': 0.45348776595816})]\n",
      "[Task(x=tensor([]), y=tensor([]), task_info={'task_id': 0, 'slope': -1.601402465310793, 'intersect': -1.6395424506069962}), Task(x=tensor([]), y=tensor([]), task_info={'task_id': 0, 'slope': -0.16237577290838434, 'intersect': -1.4713271337711837}), Task(x=tensor([]), y=tensor([]), task_info={'task_id': 0, 'slope': 0.8972150153302016, 'intersect': -2.658363468801004}), Task(x=tensor([]), y=tensor([]), task_info={'task_id': 0, 'slope': 1.9183670597173306, 'intersect': -1.1122263591135826}), Task(x=tensor([]), y=tensor([]), task_info={'task_id': 0, 'slope': -0.6114207155899041, 'intersect': -1.7841582568876313}), Task(x=tensor([]), y=tensor([]), task_info={'task_id': 0, 'slope': -1.7678356902409618, 'intersect': -1.1856829745889617}), Task(x=tensor([]), y=tensor([]), task_info={'task_id': 0, 'slope': -2.9702731193445757, 'intersect': -2.454357696202349}), Task(x=tensor([]), y=tensor([]), task_info={'task_id': 0, 'slope': 1.9429339657270237, 'intersect': -0.32045805743326916}), Task(x=tensor([]), y=tensor([]), task_info={'task_id': 0, 'slope': 1.1048756900984849, 'intersect': 0.2803896687912477}), Task(x=tensor([]), y=tensor([]), task_info={'task_id': 0, 'slope': 0.8995406740874383, 'intersect': 0.510974369834269}), Task(x=tensor([]), y=tensor([]), task_info={'task_id': 0, 'slope': 1.8248671232002591, 'intersect': 1.752330355900992}), Task(x=tensor([]), y=tensor([]), task_info={'task_id': 0, 'slope': -2.863947127295626, 'intersect': 1.3342792731345128}), Task(x=tensor([]), y=tensor([]), task_info={'task_id': 0, 'slope': 2.198787821594385, 'intersect': 2.6462817343306444}), Task(x=tensor([]), y=tensor([]), task_info={'task_id': 0, 'slope': -2.8960485255955386, 'intersect': 1.972437149235092}), Task(x=tensor([]), y=tensor([]), task_info={'task_id': 0, 'slope': 2.213343594904879, 'intersect': -2.3518722340556057}), Task(x=tensor([]), y=tensor([]), task_info={'task_id': 0, 'slope': -1.1884676845458297, 'intersect': 1.4753236727205863}), Task(x=tensor([]), y=tensor([]), task_info={'task_id': 0, 'slope': 0.46772298186085814, 'intersect': 2.021082761113523}), Task(x=tensor([]), y=tensor([]), task_info={'task_id': 0, 'slope': -1.9238675351898897, 'intersect': -2.371696319306641}), Task(x=tensor([]), y=tensor([]), task_info={'task_id': 0, 'slope': -0.9222539613782308, 'intersect': -2.3301464654475788}), Task(x=tensor([]), y=tensor([]), task_info={'task_id': 0, 'slope': -1.7642262174071954, 'intersect': -1.8727106221854948}), Task(x=tensor([]), y=tensor([]), task_info={'task_id': 0, 'slope': 0.4790507544933158, 'intersect': 2.953902465202928}), Task(x=tensor([]), y=tensor([]), task_info={'task_id': 0, 'slope': -1.1194072084992488, 'intersect': 1.388773629898326}), Task(x=tensor([]), y=tensor([]), task_info={'task_id': 0, 'slope': -2.965255726060347, 'intersect': 1.1341469548310545}), Task(x=tensor([]), y=tensor([]), task_info={'task_id': 0, 'slope': 0.5593712223026417, 'intersect': 0.21739244913063605}), Task(x=tensor([]), y=tensor([]), task_info={'task_id': 0, 'slope': 2.475864211955227, 'intersect': -1.7236578229940502}), Task(x=tensor([]), y=tensor([]), task_info={'task_id': 0, 'slope': 0.4917908979265455, 'intersect': 2.096272015405254}), Task(x=tensor([]), y=tensor([]), task_info={'task_id': 0, 'slope': 1.117959490354922, 'intersect': 2.491374183010456}), Task(x=tensor([]), y=tensor([]), task_info={'task_id': 0, 'slope': 0.7555167034468546, 'intersect': -1.6390707171680474}), Task(x=tensor([]), y=tensor([]), task_info={'task_id': 0, 'slope': -2.020069282676255, 'intersect': -1.4223831102281275}), Task(x=tensor([]), y=tensor([]), task_info={'task_id': 0, 'slope': -2.704594977995928, 'intersect': -1.3598838757688239}), Task(x=tensor([]), y=tensor([]), task_info={'task_id': 0, 'slope': -0.9528469602468514, 'intersect': -0.017409804082035407}), Task(x=tensor([]), y=tensor([]), task_info={'task_id': 0, 'slope': 2.050638465387804, 'intersect': -2.9780706224296174})]\n",
      "[Task(x=tensor([]), y=tensor([]), task_info={'task_id': 0, 'slope': -0.9188613866233206, 'intersect': 2.337363322724772}), Task(x=tensor([]), y=tensor([]), task_info={'task_id': 0, 'slope': -2.446502648086845, 'intersect': 1.8503477057908029}), Task(x=tensor([]), y=tensor([]), task_info={'task_id': 0, 'slope': -1.2910742617757758, 'intersect': -1.4189612144639328}), Task(x=tensor([]), y=tensor([]), task_info={'task_id': 0, 'slope': 0.25830324084123824, 'intersect': 2.064594209089898}), Task(x=tensor([]), y=tensor([]), task_info={'task_id': 0, 'slope': -2.9443586148730736, 'intersect': -0.47459636694200213}), Task(x=tensor([]), y=tensor([]), task_info={'task_id': 0, 'slope': 2.729089004344342, 'intersect': -0.23386835623582725}), Task(x=tensor([]), y=tensor([]), task_info={'task_id': 0, 'slope': 2.367301832909858, 'intersect': -0.5054858624981877}), Task(x=tensor([]), y=tensor([]), task_info={'task_id': 0, 'slope': -1.1368103861265129, 'intersect': 0.6937003143227072}), Task(x=tensor([]), y=tensor([]), task_info={'task_id': 0, 'slope': 1.8301714405042429, 'intersect': 1.0836386581556248}), Task(x=tensor([]), y=tensor([]), task_info={'task_id': 0, 'slope': 1.4106279013596827, 'intersect': 0.07859234638524137}), Task(x=tensor([]), y=tensor([]), task_info={'task_id': 0, 'slope': -1.727733430758268, 'intersect': -1.2957362155881895}), Task(x=tensor([]), y=tensor([]), task_info={'task_id': 0, 'slope': -0.4006637698722608, 'intersect': 2.027158155563793}), Task(x=tensor([]), y=tensor([]), task_info={'task_id': 0, 'slope': -1.816758560918261, 'intersect': -1.4770267233694145}), Task(x=tensor([]), y=tensor([]), task_info={'task_id': 0, 'slope': -2.2135749493579437, 'intersect': 0.16424997345214987}), Task(x=tensor([]), y=tensor([]), task_info={'task_id': 0, 'slope': 2.4710929699365662, 'intersect': 0.4898417294775923}), Task(x=tensor([]), y=tensor([]), task_info={'task_id': 0, 'slope': -1.0633924369338768, 'intersect': -0.3040566323440279}), Task(x=tensor([]), y=tensor([]), task_info={'task_id': 0, 'slope': -2.815813561372152, 'intersect': -2.4802066839747274}), Task(x=tensor([]), y=tensor([]), task_info={'task_id': 0, 'slope': -1.0816029873676734, 'intersect': -2.7381502698924454}), Task(x=tensor([]), y=tensor([]), task_info={'task_id': 0, 'slope': 0.3302328146814899, 'intersect': -0.09589108762284759}), Task(x=tensor([]), y=tensor([]), task_info={'task_id': 0, 'slope': 1.9117367722308973, 'intersect': 2.2398381383602732}), Task(x=tensor([]), y=tensor([]), task_info={'task_id': 0, 'slope': -2.2836931705989487, 'intersect': 1.3490870989360308}), Task(x=tensor([]), y=tensor([]), task_info={'task_id': 0, 'slope': 2.537684198466307, 'intersect': -1.0197160260228684}), Task(x=tensor([]), y=tensor([]), task_info={'task_id': 0, 'slope': 1.4614037951401437, 'intersect': -2.58579487001815}), Task(x=tensor([]), y=tensor([]), task_info={'task_id': 0, 'slope': 2.9517881542657367, 'intersect': 1.401517922343074}), Task(x=tensor([]), y=tensor([]), task_info={'task_id': 0, 'slope': -1.5895620871614022, 'intersect': 0.8854398515068524}), Task(x=tensor([]), y=tensor([]), task_info={'task_id': 0, 'slope': -2.9805371789199766, 'intersect': -2.105679064834354}), Task(x=tensor([]), y=tensor([]), task_info={'task_id': 0, 'slope': -1.1768004800244471, 'intersect': 1.0951223877352998}), Task(x=tensor([]), y=tensor([]), task_info={'task_id': 0, 'slope': -1.8696088566669617, 'intersect': 1.7187719990726116}), Task(x=tensor([]), y=tensor([]), task_info={'task_id': 0, 'slope': 1.7714771373993932, 'intersect': 1.906335629848285}), Task(x=tensor([]), y=tensor([]), task_info={'task_id': 0, 'slope': 1.4224229857363797, 'intersect': 1.1619373879123591}), Task(x=tensor([]), y=tensor([]), task_info={'task_id': 0, 'slope': -2.5798246450816764, 'intersect': 1.9504540936127253}), Task(x=tensor([]), y=tensor([]), task_info={'task_id': 0, 'slope': -2.8248118639919184, 'intersect': -2.0505990709578694})]\n",
      "[Task(x=tensor([]), y=tensor([]), task_info={'task_id': 0, 'slope': 2.1437590948065415, 'intersect': -2.4134152887764344}), Task(x=tensor([]), y=tensor([]), task_info={'task_id': 0, 'slope': 1.2824403025049715, 'intersect': -0.15360652184202106}), Task(x=tensor([]), y=tensor([]), task_info={'task_id': 0, 'slope': 2.79192576885809, 'intersect': 1.7870561239253453}), Task(x=tensor([]), y=tensor([]), task_info={'task_id': 0, 'slope': -0.9998748174626018, 'intersect': -0.10873010871988154}), Task(x=tensor([]), y=tensor([]), task_info={'task_id': 0, 'slope': -2.874793078692872, 'intersect': 1.2466498122057406}), Task(x=tensor([]), y=tensor([]), task_info={'task_id': 0, 'slope': -2.9735534825281698, 'intersect': 2.987139093714495}), Task(x=tensor([]), y=tensor([]), task_info={'task_id': 0, 'slope': 2.0292479491492106, 'intersect': 0.09311029667271065}), Task(x=tensor([]), y=tensor([]), task_info={'task_id': 0, 'slope': -1.6994270873042057, 'intersect': 1.146526573733479}), Task(x=tensor([]), y=tensor([]), task_info={'task_id': 0, 'slope': 2.1392552923950605, 'intersect': 1.92663435425201}), Task(x=tensor([]), y=tensor([]), task_info={'task_id': 0, 'slope': -2.3502236128724383, 'intersect': 1.0513422574854037}), Task(x=tensor([]), y=tensor([]), task_info={'task_id': 0, 'slope': -0.8577112220257153, 'intersect': -0.9625114094088065}), Task(x=tensor([]), y=tensor([]), task_info={'task_id': 0, 'slope': 1.5698661884711465, 'intersect': -0.3004509301224445}), Task(x=tensor([]), y=tensor([]), task_info={'task_id': 0, 'slope': 2.146484754555172, 'intersect': 0.8926513073528062}), Task(x=tensor([]), y=tensor([]), task_info={'task_id': 0, 'slope': 1.650995436228758, 'intersect': 0.25220607582590526}), Task(x=tensor([]), y=tensor([]), task_info={'task_id': 0, 'slope': 0.13614053765337975, 'intersect': -2.1238130262551644}), Task(x=tensor([]), y=tensor([]), task_info={'task_id': 0, 'slope': -2.4456640933190634, 'intersect': 0.4504977990224668}), Task(x=tensor([]), y=tensor([]), task_info={'task_id': 0, 'slope': 1.8283455656214471, 'intersect': -1.0136596409685887}), Task(x=tensor([]), y=tensor([]), task_info={'task_id': 0, 'slope': 0.9864783638861816, 'intersect': -0.7982566765833301}), Task(x=tensor([]), y=tensor([]), task_info={'task_id': 0, 'slope': 1.8035378151813486, 'intersect': 1.4730996022654521}), Task(x=tensor([]), y=tensor([]), task_info={'task_id': 0, 'slope': -2.838289109343542, 'intersect': 1.295499946748306}), Task(x=tensor([]), y=tensor([]), task_info={'task_id': 0, 'slope': -0.5904237229324023, 'intersect': -0.4532466321859001}), Task(x=tensor([]), y=tensor([]), task_info={'task_id': 0, 'slope': -1.9299312234478718, 'intersect': 2.3328188426509007}), Task(x=tensor([]), y=tensor([]), task_info={'task_id': 0, 'slope': 0.20317662629866584, 'intersect': -0.3814000454376969}), Task(x=tensor([]), y=tensor([]), task_info={'task_id': 0, 'slope': 2.6362053063018225, 'intersect': -0.45587592048244785}), Task(x=tensor([]), y=tensor([]), task_info={'task_id': 0, 'slope': 2.9409729782944964, 'intersect': 2.6450820149307663}), Task(x=tensor([]), y=tensor([]), task_info={'task_id': 0, 'slope': 2.9295590572606294, 'intersect': 0.3315003366096403}), Task(x=tensor([]), y=tensor([]), task_info={'task_id': 0, 'slope': -2.9618516694729924, 'intersect': 1.747423268754737}), Task(x=tensor([]), y=tensor([]), task_info={'task_id': 0, 'slope': 1.3994127406579189, 'intersect': -2.5690316492754772}), Task(x=tensor([]), y=tensor([]), task_info={'task_id': 0, 'slope': 2.261419507727476, 'intersect': -2.4182370345152204}), Task(x=tensor([]), y=tensor([]), task_info={'task_id': 0, 'slope': -1.615969690894727, 'intersect': -2.183455891368271}), Task(x=tensor([]), y=tensor([]), task_info={'task_id': 0, 'slope': -1.5214284316938516, 'intersect': 0.3381748411395966}), Task(x=tensor([]), y=tensor([]), task_info={'task_id': 0, 'slope': 0.989356122844137, 'intersect': 2.6919334054960045})]\n",
      "[Task(x=tensor([]), y=tensor([]), task_info={'task_id': 0, 'slope': 2.1239986980411265, 'intersect': -2.2922078460170487}), Task(x=tensor([]), y=tensor([]), task_info={'task_id': 0, 'slope': -1.3034585989376353, 'intersect': -0.5314933266412605}), Task(x=tensor([]), y=tensor([]), task_info={'task_id': 0, 'slope': 1.2005276317501883, 'intersect': -2.0673364709010116}), Task(x=tensor([]), y=tensor([]), task_info={'task_id': 0, 'slope': 2.300546347345299, 'intersect': -2.4757513891658967}), Task(x=tensor([]), y=tensor([]), task_info={'task_id': 0, 'slope': 1.2081682036631296, 'intersect': -0.3825483074463101}), Task(x=tensor([]), y=tensor([]), task_info={'task_id': 0, 'slope': 0.5814898448363088, 'intersect': -2.460506270335512}), Task(x=tensor([]), y=tensor([]), task_info={'task_id': 0, 'slope': 2.595045620376359, 'intersect': -1.3528997097227013}), Task(x=tensor([]), y=tensor([]), task_info={'task_id': 0, 'slope': -1.682618509657735, 'intersect': 1.194486438655824}), Task(x=tensor([]), y=tensor([]), task_info={'task_id': 0, 'slope': 2.231095290558118, 'intersect': 0.6017838731792429}), Task(x=tensor([]), y=tensor([]), task_info={'task_id': 0, 'slope': -1.810067094202617, 'intersect': 1.6019110432564867}), Task(x=tensor([]), y=tensor([]), task_info={'task_id': 0, 'slope': -1.89776732243441, 'intersect': 0.08873785072679707}), Task(x=tensor([]), y=tensor([]), task_info={'task_id': 0, 'slope': 2.6021385332582145, 'intersect': -0.23229657024467132}), Task(x=tensor([]), y=tensor([]), task_info={'task_id': 0, 'slope': 1.3439847326960868, 'intersect': -2.522747699468698}), Task(x=tensor([]), y=tensor([]), task_info={'task_id': 0, 'slope': -2.5960154683732988, 'intersect': -1.1107928984374016}), Task(x=tensor([]), y=tensor([]), task_info={'task_id': 0, 'slope': -1.559126372544429, 'intersect': 2.2809616845749723}), Task(x=tensor([]), y=tensor([]), task_info={'task_id': 0, 'slope': 2.2169638726685728, 'intersect': -0.7921236695495484}), Task(x=tensor([]), y=tensor([]), task_info={'task_id': 0, 'slope': -1.6526404482776684, 'intersect': -0.7299475680221672}), Task(x=tensor([]), y=tensor([]), task_info={'task_id': 0, 'slope': -2.846245598194006, 'intersect': 0.624445677006344}), Task(x=tensor([]), y=tensor([]), task_info={'task_id': 0, 'slope': 1.0980202821258969, 'intersect': 1.4446821756750339}), Task(x=tensor([]), y=tensor([]), task_info={'task_id': 0, 'slope': 0.6160010219247853, 'intersect': -2.848537646779026}), Task(x=tensor([]), y=tensor([]), task_info={'task_id': 0, 'slope': 0.21749649768538415, 'intersect': 2.6640787381127833}), Task(x=tensor([]), y=tensor([]), task_info={'task_id': 0, 'slope': 1.1125174866497725, 'intersect': 0.7131967736558096}), Task(x=tensor([]), y=tensor([]), task_info={'task_id': 0, 'slope': 2.9062471591358863, 'intersect': -1.2191698432857065}), Task(x=tensor([]), y=tensor([]), task_info={'task_id': 0, 'slope': -0.8813529968685079, 'intersect': 2.938820656866689}), Task(x=tensor([]), y=tensor([]), task_info={'task_id': 0, 'slope': -2.5823961636226374, 'intersect': 0.05500013547081295}), Task(x=tensor([]), y=tensor([]), task_info={'task_id': 0, 'slope': -1.295678576862719, 'intersect': 1.91894859761552}), Task(x=tensor([]), y=tensor([]), task_info={'task_id': 0, 'slope': 2.1605701987844954, 'intersect': 0.6067275574359816}), Task(x=tensor([]), y=tensor([]), task_info={'task_id': 0, 'slope': -0.441523493532209, 'intersect': 1.4354832045379693}), Task(x=tensor([]), y=tensor([]), task_info={'task_id': 0, 'slope': -1.6304534544524327, 'intersect': 1.8998256375239535}), Task(x=tensor([]), y=tensor([]), task_info={'task_id': 0, 'slope': 0.8288308481193658, 'intersect': -1.9752739534577866}), Task(x=tensor([]), y=tensor([]), task_info={'task_id': 0, 'slope': 0.3510533156555722, 'intersect': -1.1749577427585458}), Task(x=tensor([]), y=tensor([]), task_info={'task_id': 0, 'slope': 1.8377961114568349, 'intersect': 0.2576126684194726})]\n",
      "[Task(x=tensor([]), y=tensor([]), task_info={'task_id': 0, 'slope': -0.16964970864474038, 'intersect': 1.0526731081892473}), Task(x=tensor([]), y=tensor([]), task_info={'task_id': 0, 'slope': -1.220079892158916, 'intersect': 1.058920756763384}), Task(x=tensor([]), y=tensor([]), task_info={'task_id': 0, 'slope': -0.8074291796582296, 'intersect': -0.8912544037808692}), Task(x=tensor([]), y=tensor([]), task_info={'task_id': 0, 'slope': -0.9556986775705889, 'intersect': -2.8940758264668824}), Task(x=tensor([]), y=tensor([]), task_info={'task_id': 0, 'slope': 0.21853281980805228, 'intersect': 0.3436885371673557}), Task(x=tensor([]), y=tensor([]), task_info={'task_id': 0, 'slope': 2.37199546288194, 'intersect': -1.4803149961986317}), Task(x=tensor([]), y=tensor([]), task_info={'task_id': 0, 'slope': -2.6553922389500837, 'intersect': -1.41196468459996}), Task(x=tensor([]), y=tensor([]), task_info={'task_id': 0, 'slope': -2.1856302654163127, 'intersect': 1.61773648439158}), Task(x=tensor([]), y=tensor([]), task_info={'task_id': 0, 'slope': -0.2898594229706468, 'intersect': -0.015591627137501618}), Task(x=tensor([]), y=tensor([]), task_info={'task_id': 0, 'slope': -1.582319623029768, 'intersect': 2.9420551469267675}), Task(x=tensor([]), y=tensor([]), task_info={'task_id': 0, 'slope': 0.30358061575669115, 'intersect': -0.8996999141840307}), Task(x=tensor([]), y=tensor([]), task_info={'task_id': 0, 'slope': 1.4290419162703314, 'intersect': -2.691370028419467}), Task(x=tensor([]), y=tensor([]), task_info={'task_id': 0, 'slope': 0.4896757152026421, 'intersect': -1.765261301838794}), Task(x=tensor([]), y=tensor([]), task_info={'task_id': 0, 'slope': -1.7492206992065646, 'intersect': 0.5541875463353207}), Task(x=tensor([]), y=tensor([]), task_info={'task_id': 0, 'slope': -0.17097085286986635, 'intersect': -1.7761559398938174}), Task(x=tensor([]), y=tensor([]), task_info={'task_id': 0, 'slope': 2.6405738126353144, 'intersect': 1.3956110611676769}), Task(x=tensor([]), y=tensor([]), task_info={'task_id': 0, 'slope': -2.0954639754171263, 'intersect': 0.4062586923710292}), Task(x=tensor([]), y=tensor([]), task_info={'task_id': 0, 'slope': 1.7402132777068848, 'intersect': 0.7908503061098529}), Task(x=tensor([]), y=tensor([]), task_info={'task_id': 0, 'slope': -0.30932321186382516, 'intersect': 2.9909560037989795}), Task(x=tensor([]), y=tensor([]), task_info={'task_id': 0, 'slope': -2.562868930697669, 'intersect': -1.563136322041237}), Task(x=tensor([]), y=tensor([]), task_info={'task_id': 0, 'slope': 0.2692445099078382, 'intersect': -2.4464211709638937}), Task(x=tensor([]), y=tensor([]), task_info={'task_id': 0, 'slope': -1.627111911244454, 'intersect': -0.8354090250453208}), Task(x=tensor([]), y=tensor([]), task_info={'task_id': 0, 'slope': -2.601257528872252, 'intersect': 0.05158166023197541}), Task(x=tensor([]), y=tensor([]), task_info={'task_id': 0, 'slope': 1.049753486261868, 'intersect': -2.6664831840026357}), Task(x=tensor([]), y=tensor([]), task_info={'task_id': 0, 'slope': 2.0386717196190967, 'intersect': 0.6990708043202236}), Task(x=tensor([]), y=tensor([]), task_info={'task_id': 0, 'slope': -0.9412134523835105, 'intersect': 0.3058439174554737}), Task(x=tensor([]), y=tensor([]), task_info={'task_id': 0, 'slope': -1.3044118413841268, 'intersect': 1.9165067015139332}), Task(x=tensor([]), y=tensor([]), task_info={'task_id': 0, 'slope': 1.8219991730834142, 'intersect': -0.6652652958220173}), Task(x=tensor([]), y=tensor([]), task_info={'task_id': 0, 'slope': -1.0299724611919678, 'intersect': -0.8521994578214196}), Task(x=tensor([]), y=tensor([]), task_info={'task_id': 0, 'slope': -1.8366962253108223, 'intersect': 2.3626820790059364}), Task(x=tensor([]), y=tensor([]), task_info={'task_id': 0, 'slope': -0.09487301917876412, 'intersect': 0.11304282030084245}), Task(x=tensor([]), y=tensor([]), task_info={'task_id': 0, 'slope': -1.9788913657815836, 'intersect': -0.829090635963392})]\n",
      "[Task(x=tensor([]), y=tensor([]), task_info={'task_id': 0, 'slope': 1.853265708641194, 'intersect': -2.5978237466621876}), Task(x=tensor([]), y=tensor([]), task_info={'task_id': 0, 'slope': -0.6775428738804887, 'intersect': 1.2012094791134373}), Task(x=tensor([]), y=tensor([]), task_info={'task_id': 0, 'slope': -1.1549347434236634, 'intersect': 1.6001700644232866}), Task(x=tensor([]), y=tensor([]), task_info={'task_id': 0, 'slope': -0.24081552220285918, 'intersect': -0.4412023794285904}), Task(x=tensor([]), y=tensor([]), task_info={'task_id': 0, 'slope': -2.692588448903482, 'intersect': -0.2976985710717934}), Task(x=tensor([]), y=tensor([]), task_info={'task_id': 0, 'slope': 0.08350928348665754, 'intersect': 0.9564987305343853}), Task(x=tensor([]), y=tensor([]), task_info={'task_id': 0, 'slope': 1.6253543427010282, 'intersect': -1.1427264428271546}), Task(x=tensor([]), y=tensor([]), task_info={'task_id': 0, 'slope': 1.0160180535221466, 'intersect': -2.326463530517813}), Task(x=tensor([]), y=tensor([]), task_info={'task_id': 0, 'slope': -2.4107138084978375, 'intersect': -1.9313903079908106}), Task(x=tensor([]), y=tensor([]), task_info={'task_id': 0, 'slope': 1.5406297911788487, 'intersect': -1.7069034215780094}), Task(x=tensor([]), y=tensor([]), task_info={'task_id': 0, 'slope': 0.463612311850492, 'intersect': 1.9000931017245968}), Task(x=tensor([]), y=tensor([]), task_info={'task_id': 0, 'slope': -1.536830106443307, 'intersect': -2.246096784723216}), Task(x=tensor([]), y=tensor([]), task_info={'task_id': 0, 'slope': 1.2162639303423708, 'intersect': 0.08154769560365072}), Task(x=tensor([]), y=tensor([]), task_info={'task_id': 0, 'slope': -0.4890752666264824, 'intersect': 0.2884536672949505}), Task(x=tensor([]), y=tensor([]), task_info={'task_id': 0, 'slope': -0.9474682594988968, 'intersect': 2.015016875603634}), Task(x=tensor([]), y=tensor([]), task_info={'task_id': 0, 'slope': -1.8750112921098145, 'intersect': -2.1170413932510543}), Task(x=tensor([]), y=tensor([]), task_info={'task_id': 0, 'slope': -0.08338117972227854, 'intersect': 2.4714883807888013}), Task(x=tensor([]), y=tensor([]), task_info={'task_id': 0, 'slope': 1.912042053336835, 'intersect': -0.48643649095724406}), Task(x=tensor([]), y=tensor([]), task_info={'task_id': 0, 'slope': -2.8873558805390824, 'intersect': 1.8351779140065299}), Task(x=tensor([]), y=tensor([]), task_info={'task_id': 0, 'slope': -0.2609545948412846, 'intersect': -0.9440451070182068}), Task(x=tensor([]), y=tensor([]), task_info={'task_id': 0, 'slope': 1.5181964642812673, 'intersect': 2.318346476936842}), Task(x=tensor([]), y=tensor([]), task_info={'task_id': 0, 'slope': 0.8679000635068972, 'intersect': 2.6618949345073846}), Task(x=tensor([]), y=tensor([]), task_info={'task_id': 0, 'slope': -2.167915359954617, 'intersect': 1.5192947648218507}), Task(x=tensor([]), y=tensor([]), task_info={'task_id': 0, 'slope': 0.17614361752386287, 'intersect': -1.378342327814169}), Task(x=tensor([]), y=tensor([]), task_info={'task_id': 0, 'slope': -1.1121950742170066, 'intersect': -1.6735839411222093}), Task(x=tensor([]), y=tensor([]), task_info={'task_id': 0, 'slope': -0.7004933554182617, 'intersect': -1.432122619106019}), Task(x=tensor([]), y=tensor([]), task_info={'task_id': 0, 'slope': -0.9242830707359175, 'intersect': -0.8475300160837991}), Task(x=tensor([]), y=tensor([]), task_info={'task_id': 0, 'slope': -1.6617484709175545, 'intersect': 2.847701763609173}), Task(x=tensor([]), y=tensor([]), task_info={'task_id': 0, 'slope': 0.2534035461868154, 'intersect': -1.7174880747921348}), Task(x=tensor([]), y=tensor([]), task_info={'task_id': 0, 'slope': 0.4214803347728928, 'intersect': 1.0679241631871852}), Task(x=tensor([]), y=tensor([]), task_info={'task_id': 0, 'slope': 2.5446244263654716, 'intersect': 1.7610928769417775}), Task(x=tensor([]), y=tensor([]), task_info={'task_id': 0, 'slope': -2.7477422019205786, 'intersect': -2.4400336879986098})]\n",
      "[Task(x=tensor([]), y=tensor([]), task_info={'task_id': 0, 'slope': 0.900422625779965, 'intersect': -2.4175477868391564}), Task(x=tensor([]), y=tensor([]), task_info={'task_id': 0, 'slope': 1.7905377529580022, 'intersect': 1.3581797969585079}), Task(x=tensor([]), y=tensor([]), task_info={'task_id': 0, 'slope': 1.4709385993445938, 'intersect': -1.550587565543404}), Task(x=tensor([]), y=tensor([]), task_info={'task_id': 0, 'slope': 2.6679829299701856, 'intersect': 1.8428138434199752}), Task(x=tensor([]), y=tensor([]), task_info={'task_id': 0, 'slope': -2.576241612196921, 'intersect': 1.4067540921103383}), Task(x=tensor([]), y=tensor([]), task_info={'task_id': 0, 'slope': -0.23210335504344393, 'intersect': -2.0853831086567745}), Task(x=tensor([]), y=tensor([]), task_info={'task_id': 0, 'slope': -1.0903319727789749, 'intersect': 1.1539198663772767}), Task(x=tensor([]), y=tensor([]), task_info={'task_id': 0, 'slope': 1.9334921563771967, 'intersect': -0.3990602317056857}), Task(x=tensor([]), y=tensor([]), task_info={'task_id': 0, 'slope': -1.6762507353387128, 'intersect': -2.8293304996337456}), Task(x=tensor([]), y=tensor([]), task_info={'task_id': 0, 'slope': 1.7422075962721308, 'intersect': 2.1783905336364704}), Task(x=tensor([]), y=tensor([]), task_info={'task_id': 0, 'slope': -0.5840776912143282, 'intersect': -0.9704615210550198}), Task(x=tensor([]), y=tensor([]), task_info={'task_id': 0, 'slope': 1.0718035060925901, 'intersect': -0.0476708654069018}), Task(x=tensor([]), y=tensor([]), task_info={'task_id': 0, 'slope': 2.9242349232301805, 'intersect': -0.7050557306217824}), Task(x=tensor([]), y=tensor([]), task_info={'task_id': 0, 'slope': -1.5238180250274134, 'intersect': -0.5998375866510348}), Task(x=tensor([]), y=tensor([]), task_info={'task_id': 0, 'slope': -1.4171782942548778, 'intersect': 2.0011297107731316}), Task(x=tensor([]), y=tensor([]), task_info={'task_id': 0, 'slope': -1.4859595566556727, 'intersect': -2.907329116989339}), Task(x=tensor([]), y=tensor([]), task_info={'task_id': 0, 'slope': 2.6965978700036786, 'intersect': -0.20181871056315082}), Task(x=tensor([]), y=tensor([]), task_info={'task_id': 0, 'slope': 1.8696379031331007, 'intersect': 1.6019051170193261}), Task(x=tensor([]), y=tensor([]), task_info={'task_id': 0, 'slope': 0.21532987775015489, 'intersect': 2.352786856789013}), Task(x=tensor([]), y=tensor([]), task_info={'task_id': 0, 'slope': -1.9342925910297508, 'intersect': 2.984062288520696}), Task(x=tensor([]), y=tensor([]), task_info={'task_id': 0, 'slope': 0.22848912717634917, 'intersect': -1.4036383375890806}), Task(x=tensor([]), y=tensor([]), task_info={'task_id': 0, 'slope': 0.7603139040629481, 'intersect': -2.636745740936939}), Task(x=tensor([]), y=tensor([]), task_info={'task_id': 0, 'slope': -2.333537161887449, 'intersect': -2.103013689502002}), Task(x=tensor([]), y=tensor([]), task_info={'task_id': 0, 'slope': -2.709491253906554, 'intersect': 0.05246760184063337}), Task(x=tensor([]), y=tensor([]), task_info={'task_id': 0, 'slope': -2.2669578072120204, 'intersect': -1.5747423409764054}), Task(x=tensor([]), y=tensor([]), task_info={'task_id': 0, 'slope': -0.6839429750697854, 'intersect': -0.9665657865373776}), Task(x=tensor([]), y=tensor([]), task_info={'task_id': 0, 'slope': 1.7604075523593155, 'intersect': -1.8294983804232403}), Task(x=tensor([]), y=tensor([]), task_info={'task_id': 0, 'slope': 1.859724099068596, 'intersect': -2.2302544248474776}), Task(x=tensor([]), y=tensor([]), task_info={'task_id': 0, 'slope': 2.6770291052680246, 'intersect': -0.641861126371027}), Task(x=tensor([]), y=tensor([]), task_info={'task_id': 0, 'slope': -1.073349249274483, 'intersect': -0.41952827066752274}), Task(x=tensor([]), y=tensor([]), task_info={'task_id': 0, 'slope': 2.1962657380954127, 'intersect': -0.6763420805821392}), Task(x=tensor([]), y=tensor([]), task_info={'task_id': 0, 'slope': -1.0414051269833537, 'intersect': -2.457448262303199})]\n"
     ]
    }
   ],
   "source": [
    "for i, (train, val) in enumerate(iter(dataset)):\n",
    "    print(train)\n",
    "    if i == 10:\n",
    "        break"
   ]
  },
  {
   "cell_type": "code",
   "execution_count": 13,
   "metadata": {},
   "outputs": [],
   "source": [
    "train_tasks, val_tasks = next(iter(dataset))"
   ]
  },
  {
   "cell_type": "code",
   "execution_count": 14,
   "metadata": {
    "scrolled": false
   },
   "outputs": [
    {
     "data": {
      "text/plain": [
       "[Task(x=tensor([]), y=tensor([]), task_info={'task_id': 0, 'slope': -2.1641197387508613, 'intersect': -2.202517566286094}),\n",
       " Task(x=tensor([]), y=tensor([]), task_info={'task_id': 0, 'slope': -1.9971874083376244, 'intersect': 2.5493657375460526}),\n",
       " Task(x=tensor([]), y=tensor([]), task_info={'task_id': 0, 'slope': 0.5075432979418562, 'intersect': -0.4538872619609631}),\n",
       " Task(x=tensor([]), y=tensor([]), task_info={'task_id': 0, 'slope': -1.0406690352608645, 'intersect': -2.3477132695775906}),\n",
       " Task(x=tensor([]), y=tensor([]), task_info={'task_id': 0, 'slope': -0.519949519441635, 'intersect': -2.488441225382416}),\n",
       " Task(x=tensor([]), y=tensor([]), task_info={'task_id': 0, 'slope': -0.59305577518258, 'intersect': 0.7090767696176989}),\n",
       " Task(x=tensor([]), y=tensor([]), task_info={'task_id': 0, 'slope': -2.3265836714090855, 'intersect': 1.0038292573896435}),\n",
       " Task(x=tensor([]), y=tensor([]), task_info={'task_id': 0, 'slope': -1.0844456222567855, 'intersect': -2.4276807407598495}),\n",
       " Task(x=tensor([]), y=tensor([]), task_info={'task_id': 0, 'slope': 1.4064278023622432, 'intersect': -0.8066896161381036}),\n",
       " Task(x=tensor([]), y=tensor([]), task_info={'task_id': 0, 'slope': -2.1680318667473273, 'intersect': -0.7444807404734743}),\n",
       " Task(x=tensor([]), y=tensor([]), task_info={'task_id': 0, 'slope': 2.389220025591956, 'intersect': 0.30834296270284467}),\n",
       " Task(x=tensor([]), y=tensor([]), task_info={'task_id': 0, 'slope': -1.7718510641450225, 'intersect': 0.6420426471414231}),\n",
       " Task(x=tensor([]), y=tensor([]), task_info={'task_id': 0, 'slope': -1.2255700643796363, 'intersect': 2.7878246746993653}),\n",
       " Task(x=tensor([]), y=tensor([]), task_info={'task_id': 0, 'slope': -2.319705295764682, 'intersect': 2.4656020959995413}),\n",
       " Task(x=tensor([]), y=tensor([]), task_info={'task_id': 0, 'slope': -2.610787360525743, 'intersect': -2.93390491987894}),\n",
       " Task(x=tensor([]), y=tensor([]), task_info={'task_id': 0, 'slope': -0.7857972709689545, 'intersect': -1.5624753653047467}),\n",
       " Task(x=tensor([]), y=tensor([]), task_info={'task_id': 0, 'slope': 2.1563850982458526, 'intersect': 1.5817054955978849}),\n",
       " Task(x=tensor([]), y=tensor([]), task_info={'task_id': 0, 'slope': 1.4099412171117294, 'intersect': -1.8587721651755937}),\n",
       " Task(x=tensor([]), y=tensor([]), task_info={'task_id': 0, 'slope': -0.2107990768931325, 'intersect': -2.960936827402236}),\n",
       " Task(x=tensor([]), y=tensor([]), task_info={'task_id': 0, 'slope': 1.929580139279972, 'intersect': -2.9080619827794028}),\n",
       " Task(x=tensor([]), y=tensor([]), task_info={'task_id': 0, 'slope': -0.2186891781208029, 'intersect': -2.2534458733446185}),\n",
       " Task(x=tensor([]), y=tensor([]), task_info={'task_id': 0, 'slope': -0.5801477334690088, 'intersect': 1.1330486511971847}),\n",
       " Task(x=tensor([]), y=tensor([]), task_info={'task_id': 0, 'slope': -0.9193201658124579, 'intersect': -1.4157666475342527}),\n",
       " Task(x=tensor([]), y=tensor([]), task_info={'task_id': 0, 'slope': 0.5862905009171011, 'intersect': -2.4682868455305558}),\n",
       " Task(x=tensor([]), y=tensor([]), task_info={'task_id': 0, 'slope': 2.8693252148348414, 'intersect': -0.6220487519364895}),\n",
       " Task(x=tensor([]), y=tensor([]), task_info={'task_id': 0, 'slope': -0.5035472486323891, 'intersect': 2.887078686482287}),\n",
       " Task(x=tensor([]), y=tensor([]), task_info={'task_id': 0, 'slope': -0.6376962417575092, 'intersect': -1.381100421611199}),\n",
       " Task(x=tensor([]), y=tensor([]), task_info={'task_id': 0, 'slope': -2.2238868479335325, 'intersect': 2.059062980679384}),\n",
       " Task(x=tensor([]), y=tensor([]), task_info={'task_id': 0, 'slope': -1.3998395330137223, 'intersect': -0.4394875405202967}),\n",
       " Task(x=tensor([]), y=tensor([]), task_info={'task_id': 0, 'slope': -2.4231280283758725, 'intersect': 2.4583543695267274}),\n",
       " Task(x=tensor([]), y=tensor([]), task_info={'task_id': 0, 'slope': -2.01240286676717, 'intersect': 0.3867251490613195}),\n",
       " Task(x=tensor([]), y=tensor([]), task_info={'task_id': 0, 'slope': 0.041769624705645825, 'intersect': -2.762116630412592})]"
      ]
     },
     "execution_count": 14,
     "metadata": {},
     "output_type": "execute_result"
    }
   ],
   "source": [
    "train_tasks"
   ]
  },
  {
   "cell_type": "code",
   "execution_count": 15,
   "metadata": {},
   "outputs": [
    {
     "data": {
      "text/plain": [
       "(array([], shape=(32, 0), dtype=float32),\n",
       " array([], shape=(32, 0), dtype=float32),\n",
       " array([-2.16411974, -1.99718741,  0.5075433 , -1.04066904, -0.51994952,\n",
       "        -0.59305578, -2.32658367, -1.08444562,  1.4064278 , -2.16803187,\n",
       "         2.38922003, -1.77185106, -1.22557006, -2.3197053 , -2.61078736,\n",
       "        -0.78579727,  2.1563851 ,  1.40994122, -0.21079908,  1.92958014,\n",
       "        -0.21868918, -0.58014773, -0.91932017,  0.5862905 ,  2.86932521,\n",
       "        -0.50354725, -0.63769624, -2.22388685, -1.39983953, -2.42312803,\n",
       "        -2.01240287,  0.04176962]),\n",
       " array([-2.20251757,  2.54936574, -0.45388726, -2.34771327, -2.48844123,\n",
       "         0.70907677,  1.00382926, -2.42768074, -0.80668962, -0.74448074,\n",
       "         0.30834296,  0.64204265,  2.78782467,  2.4656021 , -2.93390492,\n",
       "        -1.56247537,  1.5817055 , -1.85877217, -2.96093683, -2.90806198,\n",
       "        -2.25344587,  1.13304865, -1.41576665, -2.46828685, -0.62204875,\n",
       "         2.88707869, -1.38110042,  2.05906298, -0.43948754,  2.45835437,\n",
       "         0.38672515, -2.76211663]))"
      ]
     },
     "execution_count": 15,
     "metadata": {},
     "output_type": "execute_result"
    }
   ],
   "source": [
    "xs, ys, slopes, intersects = get_linear_points(train_tasks)\n",
    "xs, ys, slopes, intersects"
   ]
  },
  {
   "cell_type": "code",
   "execution_count": 16,
   "metadata": {},
   "outputs": [
    {
     "data": {
      "text/plain": [
       "(array([[[-0.31368205]],\n",
       " \n",
       "        [[ 0.6091487 ]],\n",
       " \n",
       "        [[-0.81151444]],\n",
       " \n",
       "        [[-0.26391652]],\n",
       " \n",
       "        [[ 0.46506158]],\n",
       " \n",
       "        [[-0.10172495]],\n",
       " \n",
       "        [[-0.26496273]],\n",
       " \n",
       "        [[ 0.7800533 ]],\n",
       " \n",
       "        [[ 0.2103563 ]],\n",
       " \n",
       "        [[ 0.73523253]],\n",
       " \n",
       "        [[ 0.38625622]],\n",
       " \n",
       "        [[-0.36203533]],\n",
       " \n",
       "        [[-0.3063234 ]],\n",
       " \n",
       "        [[-0.5251639 ]],\n",
       " \n",
       "        [[ 0.00333853]],\n",
       " \n",
       "        [[ 0.30281642]],\n",
       " \n",
       "        [[-0.5173424 ]],\n",
       " \n",
       "        [[ 0.66764355]],\n",
       " \n",
       "        [[ 0.80384135]],\n",
       " \n",
       "        [[-0.30269518]],\n",
       " \n",
       "        [[ 0.82259697]],\n",
       " \n",
       "        [[ 0.84261787]],\n",
       " \n",
       "        [[ 0.98775417]],\n",
       " \n",
       "        [[-0.945405  ]],\n",
       " \n",
       "        [[-0.4264514 ]],\n",
       " \n",
       "        [[-0.15215573]],\n",
       " \n",
       "        [[ 0.9838487 ]],\n",
       " \n",
       "        [[ 0.2608671 ]],\n",
       " \n",
       "        [[ 0.28756753]],\n",
       " \n",
       "        [[ 0.741021  ]],\n",
       " \n",
       "        [[ 0.7767499 ]],\n",
       " \n",
       "        [[-0.638196  ]]], dtype=float32),\n",
       " array([[[-1.5236721 ]],\n",
       " \n",
       "        [[ 1.3327817 ]],\n",
       " \n",
       "        [[-0.865766  ]],\n",
       " \n",
       "        [[-2.0730636 ]],\n",
       " \n",
       "        [[-2.73025   ]],\n",
       " \n",
       "        [[ 0.76940536]],\n",
       " \n",
       "        [[ 1.6202873 ]],\n",
       " \n",
       "        [[-3.273606  ]],\n",
       " \n",
       "        [[-0.5108387 ]],\n",
       " \n",
       "        [[-2.3384883 ]],\n",
       " \n",
       "        [[ 1.231194  ]],\n",
       " \n",
       "        [[ 1.2835153 ]],\n",
       " \n",
       "        [[ 3.1632454 ]],\n",
       " \n",
       "        [[ 3.6838276 ]],\n",
       " \n",
       "        [[-2.942621  ]],\n",
       " \n",
       "        [[-1.8004277 ]],\n",
       " \n",
       "        [[ 0.466116  ]],\n",
       " \n",
       "        [[-0.917434  ]],\n",
       " \n",
       "        [[-3.1303859 ]],\n",
       " \n",
       "        [[-3.4921367 ]],\n",
       " \n",
       "        [[-2.4333389 ]],\n",
       " \n",
       "        [[ 0.6442058 ]],\n",
       " \n",
       "        [[-2.323829  ]],\n",
       " \n",
       "        [[-3.0225687 ]],\n",
       " \n",
       "        [[-1.8456765 ]],\n",
       " \n",
       "        [[ 2.9636962 ]],\n",
       " \n",
       "        [[-2.008497  ]],\n",
       " \n",
       "        [[ 1.4789242 ]],\n",
       " \n",
       "        [[-0.84203595]],\n",
       " \n",
       "        [[ 0.6627657 ]],\n",
       " \n",
       "        [[-1.1764085 ]],\n",
       " \n",
       "        [[-2.7887738 ]]], dtype=float32),\n",
       " array([-2.16411974, -1.99718741,  0.5075433 , -1.04066904, -0.51994952,\n",
       "        -0.59305578, -2.32658367, -1.08444562,  1.4064278 , -2.16803187,\n",
       "         2.38922003, -1.77185106, -1.22557006, -2.3197053 , -2.61078736,\n",
       "        -0.78579727,  2.1563851 ,  1.40994122, -0.21079908,  1.92958014,\n",
       "        -0.21868918, -0.58014773, -0.91932017,  0.5862905 ,  2.86932521,\n",
       "        -0.50354725, -0.63769624, -2.22388685, -1.39983953, -2.42312803,\n",
       "        -2.01240287,  0.04176962]),\n",
       " array([-2.20251757,  2.54936574, -0.45388726, -2.34771327, -2.48844123,\n",
       "         0.70907677,  1.00382926, -2.42768074, -0.80668962, -0.74448074,\n",
       "         0.30834296,  0.64204265,  2.78782467,  2.4656021 , -2.93390492,\n",
       "        -1.56247537,  1.5817055 , -1.85877217, -2.96093683, -2.90806198,\n",
       "        -2.25344587,  1.13304865, -1.41576665, -2.46828685, -0.62204875,\n",
       "         2.88707869, -1.38110042,  2.05906298, -0.43948754,  2.45835437,\n",
       "         0.38672515, -2.76211663]))"
      ]
     },
     "execution_count": 16,
     "metadata": {},
     "output_type": "execute_result"
    }
   ],
   "source": [
    "xs, ys, slopes, intersects = get_linear_points(val_tasks)\n",
    "xs, ys, slopes, intersects"
   ]
  },
  {
   "cell_type": "code",
   "execution_count": 17,
   "metadata": {},
   "outputs": [
    {
     "data": {
      "text/plain": [
       "<matplotlib.collections.PathCollection at 0x7fe8d87e0710>"
      ]
     },
     "execution_count": 17,
     "metadata": {},
     "output_type": "execute_result"
    },
    {
     "data": {
      "image/png": "[encoded data removed]",
      "text/plain": [
       "<Figure size 432x288 with 1 Axes>"
      ]
     },
     "metadata": {
      "needs_background": "light"
     },
     "output_type": "display_data"
    }
   ],
   "source": [
    "plt.scatter(xs, ys)"
   ]
  },
  {
   "cell_type": "markdown",
   "metadata": {},
   "source": [
    "---"
   ]
  },
  {
   "cell_type": "code",
   "execution_count": 18,
   "metadata": {},
   "outputs": [],
   "source": [
    "args.dataset = 'sinusoid'"
   ]
  },
  {
   "cell_type": "code",
   "execution_count": 19,
   "metadata": {},
   "outputs": [],
   "source": [
    "dataset = SinusoidMetaDataset(\n",
    "    num_total_batches=args.num_batches,\n",
    "    num_samples_per_function=args.num_samples_per_class,\n",
    "    num_val_samples=args.num_val_samples,\n",
    "    meta_batch_size=args.meta_batch_size,\n",
    "    amp_range=args.amp_range,\n",
    "    phase_range=args.phase_range,\n",
    "    input_range=args.input_range,\n",
    "    oracle=args.oracle,\n",
    "    train=is_training,\n",
    "    device=args.device)\n",
    "loss_func = torch.nn.MSELoss()\n",
    "collect_accuracies = False"
   ]
  },
  {
   "cell_type": "code",
   "execution_count": 20,
   "metadata": {},
   "outputs": [
    {
     "data": {
      "text/plain": [
       "{'_num_total_batches': 1920000,\n",
       " '_num_samples_per_function': 1,\n",
       " '_num_val_samples': 1,\n",
       " '_num_total_samples': 1,\n",
       " '_meta_batch_size': 32,\n",
       " '_oracle': False,\n",
       " '_train': True,\n",
       " '_device': device(type='cpu'),\n",
       " '_dtype': torch.float32,\n",
       " '_amp_range': [0.1, 5.0],\n",
       " '_phase_range': [0, 3.141592653589793],\n",
       " '_input_range': [-5.0, 5.0],\n",
       " 'input_size': 1,\n",
       " 'output_size': 1}"
      ]
     },
     "execution_count": 20,
     "metadata": {},
     "output_type": "execute_result"
    }
   ],
   "source": [
    "dataset.__dict__"
   ]
  },
  {
   "cell_type": "code",
   "execution_count": 21,
   "metadata": {},
   "outputs": [],
   "source": [
    "train_tasks, val_tasks = next(iter(dataset))"
   ]
  },
  {
   "cell_type": "code",
   "execution_count": 22,
   "metadata": {},
   "outputs": [
    {
     "data": {
      "text/plain": [
       "[Task(x=tensor([]), y=tensor([]), task_info={'task_id': 0, 'amp': 1.6071328468670443, 'phase': 1.0753211869428392}),\n",
       " Task(x=tensor([]), y=tensor([]), task_info={'task_id': 0, 'amp': 0.12414020256253733, 'phase': 1.3914196389030475}),\n",
       " Task(x=tensor([]), y=tensor([]), task_info={'task_id': 0, 'amp': 3.886190851079205, 'phase': 2.67195459671902}),\n",
       " Task(x=tensor([]), y=tensor([]), task_info={'task_id': 0, 'amp': 1.6381043954443701, 'phase': 1.926271790665856}),\n",
       " Task(x=tensor([]), y=tensor([]), task_info={'task_id': 0, 'amp': 1.6898826245403817, 'phase': 2.365504959118674}),\n",
       " Task(x=tensor([]), y=tensor([]), task_info={'task_id': 0, 'amp': 4.487247775075262, 'phase': 0.24635851841054726}),\n",
       " Task(x=tensor([]), y=tensor([]), task_info={'task_id': 0, 'amp': 3.070990432414165, 'phase': 0.9783870937368967}),\n",
       " Task(x=tensor([]), y=tensor([]), task_info={'task_id': 0, 'amp': 1.6827430021410519, 'phase': 0.7817109386482568}),\n",
       " Task(x=tensor([]), y=tensor([]), task_info={'task_id': 0, 'amp': 1.7124868568378577, 'phase': 0.0611066244633681}),\n",
       " Task(x=tensor([]), y=tensor([]), task_info={'task_id': 0, 'amp': 3.6406684265444142, 'phase': 3.07357556209232}),\n",
       " Task(x=tensor([]), y=tensor([]), task_info={'task_id': 0, 'amp': 1.7128663466335545, 'phase': 2.7643300919192693}),\n",
       " Task(x=tensor([]), y=tensor([]), task_info={'task_id': 0, 'amp': 1.0476531548728356, 'phase': 2.478599123996039}),\n",
       " Task(x=tensor([]), y=tensor([]), task_info={'task_id': 0, 'amp': 3.1099866633204627, 'phase': 1.706368525201226}),\n",
       " Task(x=tensor([]), y=tensor([]), task_info={'task_id': 0, 'amp': 3.686447927477097, 'phase': 2.120913747229663}),\n",
       " Task(x=tensor([]), y=tensor([]), task_info={'task_id': 0, 'amp': 2.101021532116708, 'phase': 1.6917832706157492}),\n",
       " Task(x=tensor([]), y=tensor([]), task_info={'task_id': 0, 'amp': 4.297185476892958, 'phase': 1.443302207905114}),\n",
       " Task(x=tensor([]), y=tensor([]), task_info={'task_id': 0, 'amp': 4.934426031761689, 'phase': 2.415710350929137}),\n",
       " Task(x=tensor([]), y=tensor([]), task_info={'task_id': 0, 'amp': 2.213825964554126, 'phase': 0.053158511180400186}),\n",
       " Task(x=tensor([]), y=tensor([]), task_info={'task_id': 0, 'amp': 1.8021006002697395, 'phase': 1.3985567198473934}),\n",
       " Task(x=tensor([]), y=tensor([]), task_info={'task_id': 0, 'amp': 4.294620823634564, 'phase': 1.1732095894735424}),\n",
       " Task(x=tensor([]), y=tensor([]), task_info={'task_id': 0, 'amp': 4.781562152861391, 'phase': 1.2731297260820595}),\n",
       " Task(x=tensor([]), y=tensor([]), task_info={'task_id': 0, 'amp': 2.0998570349678887, 'phase': 1.786670833160089}),\n",
       " Task(x=tensor([]), y=tensor([]), task_info={'task_id': 0, 'amp': 2.4012282804189677, 'phase': 0.11535852312772936}),\n",
       " Task(x=tensor([]), y=tensor([]), task_info={'task_id': 0, 'amp': 3.90843671622003, 'phase': 0.17281483312434923}),\n",
       " Task(x=tensor([]), y=tensor([]), task_info={'task_id': 0, 'amp': 2.501007111338698, 'phase': 2.705087286418016}),\n",
       " Task(x=tensor([]), y=tensor([]), task_info={'task_id': 0, 'amp': 3.8068548161492703, 'phase': 0.03321715840339099}),\n",
       " Task(x=tensor([]), y=tensor([]), task_info={'task_id': 0, 'amp': 0.9919847607089691, 'phase': 2.5647091442273693}),\n",
       " Task(x=tensor([]), y=tensor([]), task_info={'task_id': 0, 'amp': 4.134519545010285, 'phase': 2.8655464171198752}),\n",
       " Task(x=tensor([]), y=tensor([]), task_info={'task_id': 0, 'amp': 3.6435654315589816, 'phase': 2.0458988776284532}),\n",
       " Task(x=tensor([]), y=tensor([]), task_info={'task_id': 0, 'amp': 0.7997716689185608, 'phase': 1.6989439040017478}),\n",
       " Task(x=tensor([]), y=tensor([]), task_info={'task_id': 0, 'amp': 1.7564923506577232, 'phase': 0.9230345320125316}),\n",
       " Task(x=tensor([]), y=tensor([]), task_info={'task_id': 0, 'amp': 1.2044446209429591, 'phase': 2.565982251991477})]"
      ]
     },
     "execution_count": 22,
     "metadata": {},
     "output_type": "execute_result"
    }
   ],
   "source": [
    "train_tasks"
   ]
  },
  {
   "cell_type": "code",
   "execution_count": 23,
   "metadata": {},
   "outputs": [],
   "source": [
    "def get_sinusoid_points(tasks):\n",
    "    xs, ys, amps, phases = [], [], [], []\n",
    "    for task in tasks:\n",
    "        xs.append(task.x.numpy())\n",
    "        ys.append(task.y.numpy())\n",
    "        amps.append(task.task_info['amp'])\n",
    "        phases.append(task.task_info['phase'])\n",
    "        \n",
    "    return np.array(xs), np.array(ys), np.array(amps), np.array(phases)"
   ]
  },
  {
   "cell_type": "code",
   "execution_count": 24,
   "metadata": {},
   "outputs": [
    {
     "data": {
      "text/plain": [
       "[Task(x=tensor([]), y=tensor([]), task_info={'task_id': 0, 'amp': 1.6071328468670443, 'phase': 1.0753211869428392}),\n",
       " Task(x=tensor([]), y=tensor([]), task_info={'task_id': 0, 'amp': 0.12414020256253733, 'phase': 1.3914196389030475}),\n",
       " Task(x=tensor([]), y=tensor([]), task_info={'task_id': 0, 'amp': 3.886190851079205, 'phase': 2.67195459671902}),\n",
       " Task(x=tensor([]), y=tensor([]), task_info={'task_id': 0, 'amp': 1.6381043954443701, 'phase': 1.926271790665856}),\n",
       " Task(x=tensor([]), y=tensor([]), task_info={'task_id': 0, 'amp': 1.6898826245403817, 'phase': 2.365504959118674}),\n",
       " Task(x=tensor([]), y=tensor([]), task_info={'task_id': 0, 'amp': 4.487247775075262, 'phase': 0.24635851841054726}),\n",
       " Task(x=tensor([]), y=tensor([]), task_info={'task_id': 0, 'amp': 3.070990432414165, 'phase': 0.9783870937368967}),\n",
       " Task(x=tensor([]), y=tensor([]), task_info={'task_id': 0, 'amp': 1.6827430021410519, 'phase': 0.7817109386482568}),\n",
       " Task(x=tensor([]), y=tensor([]), task_info={'task_id': 0, 'amp': 1.7124868568378577, 'phase': 0.0611066244633681}),\n",
       " Task(x=tensor([]), y=tensor([]), task_info={'task_id': 0, 'amp': 3.6406684265444142, 'phase': 3.07357556209232}),\n",
       " Task(x=tensor([]), y=tensor([]), task_info={'task_id': 0, 'amp': 1.7128663466335545, 'phase': 2.7643300919192693}),\n",
       " Task(x=tensor([]), y=tensor([]), task_info={'task_id': 0, 'amp': 1.0476531548728356, 'phase': 2.478599123996039}),\n",
       " Task(x=tensor([]), y=tensor([]), task_info={'task_id': 0, 'amp': 3.1099866633204627, 'phase': 1.706368525201226}),\n",
       " Task(x=tensor([]), y=tensor([]), task_info={'task_id': 0, 'amp': 3.686447927477097, 'phase': 2.120913747229663}),\n",
       " Task(x=tensor([]), y=tensor([]), task_info={'task_id': 0, 'amp': 2.101021532116708, 'phase': 1.6917832706157492}),\n",
       " Task(x=tensor([]), y=tensor([]), task_info={'task_id': 0, 'amp': 4.297185476892958, 'phase': 1.443302207905114}),\n",
       " Task(x=tensor([]), y=tensor([]), task_info={'task_id': 0, 'amp': 4.934426031761689, 'phase': 2.415710350929137}),\n",
       " Task(x=tensor([]), y=tensor([]), task_info={'task_id': 0, 'amp': 2.213825964554126, 'phase': 0.053158511180400186}),\n",
       " Task(x=tensor([]), y=tensor([]), task_info={'task_id': 0, 'amp': 1.8021006002697395, 'phase': 1.3985567198473934}),\n",
       " Task(x=tensor([]), y=tensor([]), task_info={'task_id': 0, 'amp': 4.294620823634564, 'phase': 1.1732095894735424}),\n",
       " Task(x=tensor([]), y=tensor([]), task_info={'task_id': 0, 'amp': 4.781562152861391, 'phase': 1.2731297260820595}),\n",
       " Task(x=tensor([]), y=tensor([]), task_info={'task_id': 0, 'amp': 2.0998570349678887, 'phase': 1.786670833160089}),\n",
       " Task(x=tensor([]), y=tensor([]), task_info={'task_id': 0, 'amp': 2.4012282804189677, 'phase': 0.11535852312772936}),\n",
       " Task(x=tensor([]), y=tensor([]), task_info={'task_id': 0, 'amp': 3.90843671622003, 'phase': 0.17281483312434923}),\n",
       " Task(x=tensor([]), y=tensor([]), task_info={'task_id': 0, 'amp': 2.501007111338698, 'phase': 2.705087286418016}),\n",
       " Task(x=tensor([]), y=tensor([]), task_info={'task_id': 0, 'amp': 3.8068548161492703, 'phase': 0.03321715840339099}),\n",
       " Task(x=tensor([]), y=tensor([]), task_info={'task_id': 0, 'amp': 0.9919847607089691, 'phase': 2.5647091442273693}),\n",
       " Task(x=tensor([]), y=tensor([]), task_info={'task_id': 0, 'amp': 4.134519545010285, 'phase': 2.8655464171198752}),\n",
       " Task(x=tensor([]), y=tensor([]), task_info={'task_id': 0, 'amp': 3.6435654315589816, 'phase': 2.0458988776284532}),\n",
       " Task(x=tensor([]), y=tensor([]), task_info={'task_id': 0, 'amp': 0.7997716689185608, 'phase': 1.6989439040017478}),\n",
       " Task(x=tensor([]), y=tensor([]), task_info={'task_id': 0, 'amp': 1.7564923506577232, 'phase': 0.9230345320125316}),\n",
       " Task(x=tensor([]), y=tensor([]), task_info={'task_id': 0, 'amp': 1.2044446209429591, 'phase': 2.565982251991477})]"
      ]
     },
     "execution_count": 24,
     "metadata": {},
     "output_type": "execute_result"
    }
   ],
   "source": [
    "train_tasks"
   ]
  },
  {
   "cell_type": "code",
   "execution_count": 25,
   "metadata": {},
   "outputs": [
    {
     "data": {
      "text/plain": [
       "(array([], shape=(32, 0), dtype=float32),\n",
       " array([], shape=(32, 0), dtype=float32),\n",
       " array([1.60713285, 0.1241402 , 3.88619085, 1.6381044 , 1.68988262,\n",
       "        4.48724778, 3.07099043, 1.682743  , 1.71248686, 3.64066843,\n",
       "        1.71286635, 1.04765315, 3.10998666, 3.68644793, 2.10102153,\n",
       "        4.29718548, 4.93442603, 2.21382596, 1.8021006 , 4.29462082,\n",
       "        4.78156215, 2.09985703, 2.40122828, 3.90843672, 2.50100711,\n",
       "        3.80685482, 0.99198476, 4.13451955, 3.64356543, 0.79977167,\n",
       "        1.75649235, 1.20444462]),\n",
       " array([1.07532119, 1.39141964, 2.6719546 , 1.92627179, 2.36550496,\n",
       "        0.24635852, 0.97838709, 0.78171094, 0.06110662, 3.07357556,\n",
       "        2.76433009, 2.47859912, 1.70636853, 2.12091375, 1.69178327,\n",
       "        1.44330221, 2.41571035, 0.05315851, 1.39855672, 1.17320959,\n",
       "        1.27312973, 1.78667083, 0.11535852, 0.17281483, 2.70508729,\n",
       "        0.03321716, 2.56470914, 2.86554642, 2.04589888, 1.6989439 ,\n",
       "        0.92303453, 2.56598225]))"
      ]
     },
     "execution_count": 25,
     "metadata": {},
     "output_type": "execute_result"
    }
   ],
   "source": [
    "xs, ys, amps, phases = get_sinusoid_points(train_tasks)\n",
    "xs, ys, amps, phases"
   ]
  },
  {
   "cell_type": "code",
   "execution_count": null,
   "metadata": {
    "scrolled": true
   },
   "outputs": [],
   "source": []
  },
  {
   "cell_type": "code",
   "execution_count": 26,
   "metadata": {},
   "outputs": [
    {
     "data": {
      "text/plain": [
       "[Task(x=tensor([[3.2284]]), y=tensor([[1.3423]]), task_info={'task_id': 0, 'amp': 1.6071328468670443, 'phase': 1.0753211869428392}),\n",
       " Task(x=tensor([[0.6644]]), y=tensor([[-0.0825]]), task_info={'task_id': 0, 'amp': 0.12414020256253733, 'phase': 1.3914196389030475}),\n",
       " Task(x=tensor([[-4.6574]]), y=tensor([[-3.3635]]), task_info={'task_id': 0, 'amp': 3.886190851079205, 'phase': 2.67195459671902}),\n",
       " Task(x=tensor([[-2.1331]]), y=tensor([[1.3010]]), task_info={'task_id': 0, 'amp': 1.6381043954443701, 'phase': 1.926271790665856}),\n",
       " Task(x=tensor([[0.3057]]), y=tensor([[-1.4918]]), task_info={'task_id': 0, 'amp': 1.6898826245403817, 'phase': 2.365504959118674}),\n",
       " Task(x=tensor([[1.4750]]), y=tensor([[4.2272]]), task_info={'task_id': 0, 'amp': 4.487247775075262, 'phase': 0.24635851841054726}),\n",
       " Task(x=tensor([[3.8482]]), y=tensor([[0.8244]]), task_info={'task_id': 0, 'amp': 3.070990432414165, 'phase': 0.9783870937368967}),\n",
       " Task(x=tensor([[-2.7504]]), y=tensor([[0.6405]]), task_info={'task_id': 0, 'amp': 1.6827430021410519, 'phase': 0.7817109386482568}),\n",
       " Task(x=tensor([[0.4210]]), y=tensor([[0.6030]]), task_info={'task_id': 0, 'amp': 1.7124868568378577, 'phase': 0.0611066244633681}),\n",
       " Task(x=tensor([[-0.6431]]), y=tensor([[1.9800]]), task_info={'task_id': 0, 'amp': 3.6406684265444142, 'phase': 3.07357556209232}),\n",
       " Task(x=tensor([[-3.8945]]), y=tensor([[-0.6284]]), task_info={'task_id': 0, 'amp': 1.7128663466335545, 'phase': 2.7643300919192693}),\n",
       " Task(x=tensor([[2.9591]]), y=tensor([[0.4843]]), task_info={'task_id': 0, 'amp': 1.0476531548728356, 'phase': 2.478599123996039}),\n",
       " Task(x=tensor([[2.9498]]), y=tensor([[2.9448]]), task_info={'task_id': 0, 'amp': 3.1099866633204627, 'phase': 1.706368525201226}),\n",
       " Task(x=tensor([[-1.6488]]), y=tensor([[2.1663]]), task_info={'task_id': 0, 'amp': 3.686447927477097, 'phase': 2.120913747229663}),\n",
       " Task(x=tensor([[3.6297]]), y=tensor([[1.9610]]), task_info={'task_id': 0, 'amp': 2.101021532116708, 'phase': 1.6917832706157492}),\n",
       " Task(x=tensor([[-2.4498]]), y=tensor([[2.9339]]), task_info={'task_id': 0, 'amp': 4.297185476892958, 'phase': 1.443302207905114}),\n",
       " Task(x=tensor([[-0.9687]]), y=tensor([[1.1865]]), task_info={'task_id': 0, 'amp': 4.934426031761689, 'phase': 2.415710350929137}),\n",
       " Task(x=tensor([[3.7240]]), y=tensor([[-1.1177]]), task_info={'task_id': 0, 'amp': 2.213825964554126, 'phase': 0.053158511180400186}),\n",
       " Task(x=tensor([[-4.0707]]), y=tensor([[1.3101]]), task_info={'task_id': 0, 'amp': 1.8021006002697395, 'phase': 1.3985567198473934}),\n",
       " Task(x=tensor([[-2.4518]]), y=tensor([[1.9963]]), task_info={'task_id': 0, 'amp': 4.294620823634564, 'phase': 1.1732095894735424}),\n",
       " Task(x=tensor([[-3.5042]]), y=tensor([[4.7715]]), task_info={'task_id': 0, 'amp': 4.781562152861391, 'phase': 1.2731297260820595}),\n",
       " Task(x=tensor([[-4.0451]]), y=tensor([[0.9160]]), task_info={'task_id': 0, 'amp': 2.0998570349678887, 'phase': 1.786670833160089}),\n",
       " Task(x=tensor([[-2.2626]]), y=tensor([[-1.6606]]), task_info={'task_id': 0, 'amp': 2.4012282804189677, 'phase': 0.11535852312772936}),\n",
       " Task(x=tensor([[-4.2978]]), y=tensor([[3.7948]]), task_info={'task_id': 0, 'amp': 3.90843671622003, 'phase': 0.17281483312434923}),\n",
       " Task(x=tensor([[3.0684]]), y=tensor([[0.8889]]), task_info={'task_id': 0, 'amp': 2.501007111338698, 'phase': 2.705087286418016}),\n",
       " Task(x=tensor([[1.7818]]), y=tensor([[3.7469]]), task_info={'task_id': 0, 'amp': 3.8068548161492703, 'phase': 0.03321715840339099}),\n",
       " Task(x=tensor([[1.9594]]), y=tensor([[-0.5645]]), task_info={'task_id': 0, 'amp': 0.9919847607089691, 'phase': 2.5647091442273693}),\n",
       " Task(x=tensor([[-0.7585]]), y=tensor([[1.9184]]), task_info={'task_id': 0, 'amp': 4.134519545010285, 'phase': 2.8655464171198752}),\n",
       " Task(x=tensor([[-4.9409]]), y=tensor([[-2.3574]]), task_info={'task_id': 0, 'amp': 3.6435654315589816, 'phase': 2.0458988776284532}),\n",
       " Task(x=tensor([[-2.4882]]), y=tensor([[0.6920]]), task_info={'task_id': 0, 'amp': 0.7997716689185608, 'phase': 1.6989439040017478}),\n",
       " Task(x=tensor([[-1.9416]]), y=tensor([[-0.4802]]), task_info={'task_id': 0, 'amp': 1.7564923506577232, 'phase': 0.9230345320125316}),\n",
       " Task(x=tensor([[1.3759]]), y=tensor([[-1.1182]]), task_info={'task_id': 0, 'amp': 1.2044446209429591, 'phase': 2.565982251991477})]"
      ]
     },
     "execution_count": 26,
     "metadata": {},
     "output_type": "execute_result"
    }
   ],
   "source": [
    "val_tasks"
   ]
  },
  {
   "cell_type": "code",
   "execution_count": 27,
   "metadata": {},
   "outputs": [
    {
     "data": {
      "text/plain": [
       "(array([[[ 3.228362  ]],\n",
       " \n",
       "        [[ 0.6643756 ]],\n",
       " \n",
       "        [[-4.6573997 ]],\n",
       " \n",
       "        [[-2.1330621 ]],\n",
       " \n",
       "        [[ 0.30570912]],\n",
       " \n",
       "        [[ 1.4750475 ]],\n",
       " \n",
       "        [[ 3.8482096 ]],\n",
       " \n",
       "        [[-2.750359  ]],\n",
       " \n",
       "        [[ 0.42096   ]],\n",
       " \n",
       "        [[-0.6430575 ]],\n",
       " \n",
       "        [[-3.8944783 ]],\n",
       " \n",
       "        [[ 2.959131  ]],\n",
       " \n",
       "        [[ 2.9497688 ]],\n",
       " \n",
       "        [[-1.64882   ]],\n",
       " \n",
       "        [[ 3.629678  ]],\n",
       " \n",
       "        [[-2.449813  ]],\n",
       " \n",
       "        [[-0.96870553]],\n",
       " \n",
       "        [[ 3.7239735 ]],\n",
       " \n",
       "        [[-4.0707464 ]],\n",
       " \n",
       "        [[-2.4518285 ]],\n",
       " \n",
       "        [[-3.5041697 ]],\n",
       " \n",
       "        [[-4.045134  ]],\n",
       " \n",
       "        [[-2.26257   ]],\n",
       " \n",
       "        [[-4.2978334 ]],\n",
       " \n",
       "        [[ 3.0684392 ]],\n",
       " \n",
       "        [[ 1.7817893 ]],\n",
       " \n",
       "        [[ 1.9593512 ]],\n",
       " \n",
       "        [[-0.75853574]],\n",
       " \n",
       "        [[-4.940924  ]],\n",
       " \n",
       "        [[-2.4881818 ]],\n",
       " \n",
       "        [[-1.9416338 ]],\n",
       " \n",
       "        [[ 1.3758627 ]]], dtype=float32),\n",
       " array([[[ 1.3423263 ]],\n",
       " \n",
       "        [[-0.08251153]],\n",
       " \n",
       "        [[-3.3635397 ]],\n",
       " \n",
       "        [[ 1.3010336 ]],\n",
       " \n",
       "        [[-1.4918339 ]],\n",
       " \n",
       "        [[ 4.227211  ]],\n",
       " \n",
       "        [[ 0.82436734]],\n",
       " \n",
       "        [[ 0.6405022 ]],\n",
       " \n",
       "        [[ 0.60303   ]],\n",
       " \n",
       "        [[ 1.9800457 ]],\n",
       " \n",
       "        [[-0.62836885]],\n",
       " \n",
       "        [[ 0.48427853]],\n",
       " \n",
       "        [[ 2.9447932 ]],\n",
       " \n",
       "        [[ 2.1663105 ]],\n",
       " \n",
       "        [[ 1.9610361 ]],\n",
       " \n",
       "        [[ 2.9339113 ]],\n",
       " \n",
       "        [[ 1.1864531 ]],\n",
       " \n",
       "        [[-1.1176772 ]],\n",
       " \n",
       "        [[ 1.3100523 ]],\n",
       " \n",
       "        [[ 1.9962794 ]],\n",
       " \n",
       "        [[ 4.7714925 ]],\n",
       " \n",
       "        [[ 0.915975  ]],\n",
       " \n",
       "        [[-1.6606243 ]],\n",
       " \n",
       "        [[ 3.7947903 ]],\n",
       " \n",
       "        [[ 0.888881  ]],\n",
       " \n",
       "        [[ 3.7468567 ]],\n",
       " \n",
       "        [[-0.5644954 ]],\n",
       " \n",
       "        [[ 1.9183588 ]],\n",
       " \n",
       "        [[-2.3573716 ]],\n",
       " \n",
       "        [[ 0.691956  ]],\n",
       " \n",
       "        [[-0.48022234]],\n",
       " \n",
       "        [[-1.1182225 ]]], dtype=float32),\n",
       " array([1.60713285, 0.1241402 , 3.88619085, 1.6381044 , 1.68988262,\n",
       "        4.48724778, 3.07099043, 1.682743  , 1.71248686, 3.64066843,\n",
       "        1.71286635, 1.04765315, 3.10998666, 3.68644793, 2.10102153,\n",
       "        4.29718548, 4.93442603, 2.21382596, 1.8021006 , 4.29462082,\n",
       "        4.78156215, 2.09985703, 2.40122828, 3.90843672, 2.50100711,\n",
       "        3.80685482, 0.99198476, 4.13451955, 3.64356543, 0.79977167,\n",
       "        1.75649235, 1.20444462]),\n",
       " array([1.07532119, 1.39141964, 2.6719546 , 1.92627179, 2.36550496,\n",
       "        0.24635852, 0.97838709, 0.78171094, 0.06110662, 3.07357556,\n",
       "        2.76433009, 2.47859912, 1.70636853, 2.12091375, 1.69178327,\n",
       "        1.44330221, 2.41571035, 0.05315851, 1.39855672, 1.17320959,\n",
       "        1.27312973, 1.78667083, 0.11535852, 0.17281483, 2.70508729,\n",
       "        0.03321716, 2.56470914, 2.86554642, 2.04589888, 1.6989439 ,\n",
       "        0.92303453, 2.56598225]))"
      ]
     },
     "execution_count": 27,
     "metadata": {},
     "output_type": "execute_result"
    }
   ],
   "source": [
    "xs, ys, amps, phases = get_sinusoid_points(val_tasks)\n",
    "xs, ys, amps, phases"
   ]
  },
  {
   "cell_type": "code",
   "execution_count": null,
   "metadata": {},
   "outputs": [],
   "source": []
  }
 ],
 "metadata": {
  "kernelspec": {
   "display_name": "Python 3",
   "language": "python",
   "name": "python3"
  },
  "language_info": {
   "codemirror_mode": {
    "name": "ipython",
    "version": 3
   },
   "file_extension": ".py",
   "mimetype": "text/x-python",
   "name": "python",
   "nbconvert_exporter": "python",
   "pygments_lexer": "ipython3",
   "version": "3.7.9"
  }
 },
 "nbformat": 4,
 "nbformat_minor": 4
}
